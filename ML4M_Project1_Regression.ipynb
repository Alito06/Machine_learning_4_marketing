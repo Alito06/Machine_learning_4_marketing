{
 "cells": [
  {
   "cell_type": "markdown",
   "metadata": {
    "id": "oKkZLCyul6jq"
   },
   "source": [
    "##  Project 1 - Regression \n",
    "\n",
    "\n"
   ]
  },
  {
   "cell_type": "markdown",
   "metadata": {
    "id": "ua-t5YQg35TY"
   },
   "source": [
    "## Abstract\n",
    "\n",
    "Through the past 30 years the digital transformation of music and the emergence of new digital channels (social networks, streaming platforms, and distribution platforms) made the music industry highly competitive and a dynamic market. Actually, it’s considered as an economic driver that provides job and social cohesion, influence too in other areas such tourism, hospitality and media. The annual revenue of the global recorded music industry is $25.9 billion as of 2021.\n",
    "\n",
    "The music industry generates a lot of wealth and public exposure for stakeholders (musicians, managers, and distributors). Due to the financial return and the digital data access of the songs, it generated the search for a recipe to create a Hit or the likelihood of a song. The popularity of songs can make or break the success of record artists and companies and by knowing this can help record companies to promote and manage advertisement of their music more effectively. However, predicting the popularity of songs is not an easy task as it depends on many factors such as genre, tempo, lyrics, audience preferences, etc. Moreover, the popularity of songs can change over time due to trends and events.\n",
    "\n",
    "Therefore, the record company needs a data-driven approach to estimate the popularity of songs based on their features and use this information to plan their promotion strategies and budgets. This project aims to build a regression model that can predict the popularity score of a song based on its features using data mining techniques.\n",
    "\n",
    "\n",
    "\n",
    "\n",
    "\n"
   ]
  },
  {
   "cell_type": "markdown",
   "metadata": {
    "id": "4VX4ZzwE3ul5"
   },
   "source": [
    "# **Business Understanding**"
   ]
  },
  {
   "cell_type": "markdown",
   "metadata": {
    "id": "9EjT6tQgrUHY"
   },
   "source": [
    "### Business Goals\n",
    "\n",
    "The business goal of this project is to develop a model that can predict the popularity of songs based on their characteristics, such as genre, rhythm, lyrics, and others, based on the values provided by the initial database, and that allows constant learning and updating through the inclusion of new songs in the dataset. \n",
    "\n",
    "The predicted popularity will be used by the record company's marketing department to allocate promotion budgets for each song.\n",
    "\n",
    "* Increase revenue by identifying the key features that are mostly strongly associated with song populatirity, promoting music that are more likely to generate revenue.\n",
    "* Improve user engagement by tailoring music recommendations to individual users based on their preferences and predicting the popularity songs. \n",
    "\n",
    "\n",
    "###  Data mining goals:\n",
    "\n",
    " Identify key features that drive popularity and use this information to guide decision-making.\n",
    "\n",
    "* Mean Absolute Error (MAE) - The model should have a low MAE, indicating that the predicted sales estimates are close to the actual sales values.\n",
    "\n",
    "*   Root Mean Squared Error (RMSE) - Calculated by taking the square root of the average of the squared differences between the predicted and actual values.\n",
    "\n",
    "*   R-squared (R²) - It measures the proportion of variance in the dependent variable that is explained by the independent variables.\n",
    "\n",
    "*  Mean Absolute Percentage Error (MAPE %) - It measures the percentage difference between the predicted values and the actual values for each data point in the dataset.\n",
    "\n",
    "*   MAX Error - Calculated by maximum absolute difference between the predicted and actual values in a dataset.\n",
    "\n",
    "### Sucess criteria :\n",
    "\n",
    "* The R^2 score should have a score of minimum 0,7 \n",
    "\n",
    "* The max error, should be lower than 20 and the residuals should be similar between the 2 sets\n",
    "\n",
    "* The model should have high accuracy and reliability in predicting songs popularity scores;\n",
    "\n",
    "* The model should be able to handle different types of songs and features;\n",
    "\n",
    "* The model should learn and adjust if new songs are added;\n",
    "\n",
    "* The model should be interpretable and data-driven to stakeholders budget allocation.\n",
    "\n",
    "\n",
    "### Project plan :\n",
    "\n",
    "Firstly we are going to perfom data preparation and undersatinding on our dataset provided. \n",
    "We try to adopt such data mining techniques and develop 4 different regression models, test them and select the best performing predictive model.\n",
    " \n",
    " The plan for this project is to follow these steps:\n",
    "1.   Data understanding - By exploring and describing the variables and structure of the dataset.\n",
    "\n",
    "2.   Data preparation - Cleaning and transforming the data for better results on de modelling stage.\n",
    "\n",
    "3. Modeling: Selecting the appropriate techniques and develop models using different algorithms, parameters, and validation methods.\n",
    "\n",
    "4. Evaluation: Analysing how well models are aligned with success criteria and business objectives.\n",
    "\n",
    "5. Deployment: Implement the final model into the operational environment, monitor its performance over time, and report the results and outcomes to the stakeholders.\n"
   ]
  },
  {
   "cell_type": "markdown",
   "metadata": {
    "id": "sckqusJ2riwi"
   },
   "source": [
    "### Current situation and available resources\n",
    "\n",
    "The record company has a large collection of information on songs, with various characteristics and popularity scores. And so they aim to transform the information into business data-driven to help the decision-making process. \n",
    " \n",
    "- This dataset has features of each song.\n",
    "- Dependent variable is the Popularity Score - with measure scale between 0 and 100.\n",
    "\n",
    "The available resources for this project are:\n",
    "- A team of data scientists with expertise in data mining and machine learning\n",
    "- A database server with sufficient storage and processing power\n",
    "- A software platform with tools for data analysis and modeling\n",
    "\n",
    "The stakeholders involved on project are:\n",
    "- The marketing department: As the main customers of this project who will use the model outputs to plan the budget assign to promote each song. They will also provide feedback on the model's performance and usability.\n",
    "\n",
    "- The data scientists: As the persons responsible for designing, developing, testing, and deploying the model. They will also communicate with other stakeholders and document their work.\n",
    "\n",
    "- The artists: As creators of the songs who will benefit from increased exposure and sales if their songs are promoted effectively. They will also provide new inputs for features of the model."
   ]
  },
  {
   "cell_type": "markdown",
   "metadata": {
    "id": "Dp5nnT-ks9UF"
   },
   "source": [
    "The scope of this project is limited to predicting popularity scores based on song features. It does not include other aspects such as market segmentation, customer preferences, or competitor analysis."
   ]
  },
  {
   "cell_type": "markdown",
   "metadata": {
    "id": "A4wjTIQq30XE"
   },
   "source": [
    "## Data Loading - Import Libraries"
   ]
  },
  {
   "cell_type": "code",
   "execution_count": 1,
   "metadata": {},
   "outputs": [
    {
     "name": "stdout",
     "output_type": "stream",
     "text": [
      "Requirement already satisfied: optuna in c:\\users\\madel\\anaconda3\\lib\\site-packages (3.2.0)\n",
      "Requirement already satisfied: numpy in c:\\users\\madel\\anaconda3\\lib\\site-packages (from optuna) (1.24.2)\n",
      "Requirement already satisfied: PyYAML in c:\\users\\madel\\anaconda3\\lib\\site-packages (from optuna) (6.0)\n",
      "Requirement already satisfied: tqdm in c:\\users\\madel\\anaconda3\\lib\\site-packages (from optuna) (4.64.1)\n",
      "Requirement already satisfied: colorlog in c:\\users\\madel\\anaconda3\\lib\\site-packages (from optuna) (6.7.0)\n",
      "Requirement already satisfied: sqlalchemy>=1.3.0 in c:\\users\\madel\\anaconda3\\lib\\site-packages (from optuna) (1.4.39)\n",
      "Requirement already satisfied: cmaes>=0.9.1 in c:\\users\\madel\\anaconda3\\lib\\site-packages (from optuna) (0.9.1)\n",
      "Requirement already satisfied: alembic>=1.5.0 in c:\\users\\madel\\anaconda3\\lib\\site-packages (from optuna) (1.11.1)\n",
      "Requirement already satisfied: packaging>=20.0 in c:\\users\\madel\\anaconda3\\lib\\site-packages (from optuna) (21.3)\n",
      "Requirement already satisfied: Mako in c:\\users\\madel\\anaconda3\\lib\\site-packages (from alembic>=1.5.0->optuna) (1.2.4)\n",
      "Requirement already satisfied: typing-extensions>=4 in c:\\users\\madel\\anaconda3\\lib\\site-packages (from alembic>=1.5.0->optuna) (4.3.0)\n",
      "Requirement already satisfied: pyparsing!=3.0.5,>=2.0.2 in c:\\users\\madel\\anaconda3\\lib\\site-packages (from packaging>=20.0->optuna) (3.0.9)\n",
      "Requirement already satisfied: greenlet!=0.4.17 in c:\\users\\madel\\anaconda3\\lib\\site-packages (from sqlalchemy>=1.3.0->optuna) (1.1.1)\n",
      "Requirement already satisfied: colorama in c:\\users\\madel\\anaconda3\\lib\\site-packages (from colorlog->optuna) (0.4.6)\n",
      "Requirement already satisfied: MarkupSafe>=0.9.2 in c:\\users\\madel\\anaconda3\\lib\\site-packages (from Mako->alembic>=1.5.0->optuna) (2.0.1)\n"
     ]
    }
   ],
   "source": [
    "#To plot in macbook\n",
    "#%matplotlib inline\n",
    "!pip install optuna"
   ]
  },
  {
   "cell_type": "code",
   "execution_count": 2,
   "metadata": {
    "colab": {
     "base_uri": "https://localhost:8080/"
    },
    "id": "GEfUY-ncgxlE",
    "outputId": "b543d370-c6fd-48fa-a4da-8b4b045efbc1"
   },
   "outputs": [],
   "source": [
    "import numpy as np\n",
    "import pandas as pd\n",
    "import matplotlib.pyplot as plt\n",
    "from matplotlib import ticker\n",
    "import seaborn as sns\n",
    "import math\n",
    "import datetime\n",
    "from sklearn.preprocessing import MinMaxScaler\n",
    "from sklearn import metrics\n",
    "from sklearn.neural_network import MLPRegressor\n",
    "from sklearn.preprocessing import LabelEncoder\n",
    "from yellowbrick.model_selection import LearningCurve\n",
    "from yellowbrick.regressor import PredictionError\n",
    "from sklearn.model_selection import train_test_split, cross_val_score\n",
    "from sklearn.linear_model import LinearRegression\n",
    "from sklearn.model_selection import GridSearchCV\n",
    "import optuna\n",
    "from sklearn.model_selection import RandomizedSearchCV\n",
    "from sklearn import tree\n",
    "from yellowbrick.regressor import ResidualsPlot\n",
    "from scipy import stats\n",
    "from scipy.stats import boxcox"
   ]
  },
  {
   "cell_type": "markdown",
   "metadata": {
    "id": "YyLciJPwpiMK"
   },
   "source": [
    "## Import Dataset\n"
   ]
  },
  {
   "cell_type": "code",
   "execution_count": 3,
   "metadata": {
    "colab": {
     "base_uri": "https://localhost:8080/"
    },
    "id": "0rBG4ztRk9Dz",
    "outputId": "a084aab3-9aa5-4161-f019-7be823e4d104"
   },
   "outputs": [
    {
     "name": "stdout",
     "output_type": "stream",
     "text": [
      "<class 'pandas.core.frame.DataFrame'>\n",
      "RangeIndex: 18835 entries, 0 to 18834\n",
      "Data columns (total 16 columns):\n",
      " #   Column            Non-Null Count  Dtype  \n",
      "---  ------            --------------  -----  \n",
      " 0   song_name         18835 non-null  object \n",
      " 1   song_popularity   18835 non-null  int64  \n",
      " 2   song_duration_ms  18835 non-null  int64  \n",
      " 3   acousticness      18835 non-null  float64\n",
      " 4   originality       5742 non-null   float64\n",
      " 5   danceability      18835 non-null  float64\n",
      " 6   energy            18835 non-null  float64\n",
      " 7   instrumentalness  18829 non-null  float64\n",
      " 8   key               18835 non-null  int64  \n",
      " 9   liveness          18835 non-null  float64\n",
      " 10  loudness          18835 non-null  float64\n",
      " 11  audio_mode        18835 non-null  int64  \n",
      " 12  speechiness       18835 non-null  float64\n",
      " 13  tempo             18835 non-null  float64\n",
      " 14  time_signature    18835 non-null  int64  \n",
      " 15  audio_valence     18835 non-null  float64\n",
      "dtypes: float64(10), int64(5), object(1)\n",
      "memory usage: 2.3+ MB\n"
     ]
    }
   ],
   "source": [
    "# Load data as ds\n",
    "ds = pd.read_excel('https://github.com/Alito06/Datasets/blob/b5665f96b8725fc8ee2f1b2d924a55ccdc67ddac/songs_popularity.xlsx?raw=true', engine = 'openpyxl')\n",
    "ds.info()   "
   ]
  },
  {
   "cell_type": "markdown",
   "metadata": {
    "id": "0ITF_D8Tl1iC"
   },
   "source": [
    "# Data Understanding"
   ]
  },
  {
   "cell_type": "code",
   "execution_count": 4,
   "metadata": {
    "colab": {
     "base_uri": "https://localhost:8080/",
     "height": 715
    },
    "id": "kGETTMsTl_OW",
    "outputId": "08d5d37b-90f8-4ca7-d6a5-250fe51cfd66"
   },
   "outputs": [
    {
     "data": {
      "text/html": [
       "<div>\n",
       "<style scoped>\n",
       "    .dataframe tbody tr th:only-of-type {\n",
       "        vertical-align: middle;\n",
       "    }\n",
       "\n",
       "    .dataframe tbody tr th {\n",
       "        vertical-align: top;\n",
       "    }\n",
       "\n",
       "    .dataframe thead th {\n",
       "        text-align: right;\n",
       "    }\n",
       "</style>\n",
       "<table border=\"1\" class=\"dataframe\">\n",
       "  <thead>\n",
       "    <tr style=\"text-align: right;\">\n",
       "      <th></th>\n",
       "      <th>song_name</th>\n",
       "      <th>song_popularity</th>\n",
       "      <th>song_duration_ms</th>\n",
       "      <th>acousticness</th>\n",
       "      <th>originality</th>\n",
       "      <th>danceability</th>\n",
       "      <th>energy</th>\n",
       "      <th>instrumentalness</th>\n",
       "      <th>key</th>\n",
       "      <th>liveness</th>\n",
       "      <th>loudness</th>\n",
       "      <th>audio_mode</th>\n",
       "      <th>speechiness</th>\n",
       "      <th>tempo</th>\n",
       "      <th>time_signature</th>\n",
       "      <th>audio_valence</th>\n",
       "    </tr>\n",
       "  </thead>\n",
       "  <tbody>\n",
       "    <tr>\n",
       "      <th>0</th>\n",
       "      <td>Boulevard of Broken Dreams</td>\n",
       "      <td>73</td>\n",
       "      <td>262333</td>\n",
       "      <td>0.005520</td>\n",
       "      <td>NaN</td>\n",
       "      <td>0.496</td>\n",
       "      <td>0.682</td>\n",
       "      <td>0.000029</td>\n",
       "      <td>8</td>\n",
       "      <td>0.0589</td>\n",
       "      <td>-4.095</td>\n",
       "      <td>1</td>\n",
       "      <td>0.0294</td>\n",
       "      <td>167.060</td>\n",
       "      <td>4</td>\n",
       "      <td>0.474</td>\n",
       "    </tr>\n",
       "    <tr>\n",
       "      <th>1</th>\n",
       "      <td>In The End</td>\n",
       "      <td>66</td>\n",
       "      <td>216933</td>\n",
       "      <td>0.010300</td>\n",
       "      <td>NaN</td>\n",
       "      <td>0.542</td>\n",
       "      <td>0.853</td>\n",
       "      <td>0.000000</td>\n",
       "      <td>3</td>\n",
       "      <td>0.1080</td>\n",
       "      <td>-6.407</td>\n",
       "      <td>0</td>\n",
       "      <td>0.0498</td>\n",
       "      <td>105.256</td>\n",
       "      <td>4</td>\n",
       "      <td>0.370</td>\n",
       "    </tr>\n",
       "    <tr>\n",
       "      <th>2</th>\n",
       "      <td>Seven Nation Army</td>\n",
       "      <td>76</td>\n",
       "      <td>231733</td>\n",
       "      <td>0.008170</td>\n",
       "      <td>NaN</td>\n",
       "      <td>0.737</td>\n",
       "      <td>0.463</td>\n",
       "      <td>0.447000</td>\n",
       "      <td>0</td>\n",
       "      <td>0.2550</td>\n",
       "      <td>-7.828</td>\n",
       "      <td>1</td>\n",
       "      <td>0.0792</td>\n",
       "      <td>123.881</td>\n",
       "      <td>4</td>\n",
       "      <td>0.324</td>\n",
       "    </tr>\n",
       "    <tr>\n",
       "      <th>3</th>\n",
       "      <td>By The Way</td>\n",
       "      <td>74</td>\n",
       "      <td>216933</td>\n",
       "      <td>0.026400</td>\n",
       "      <td>NaN</td>\n",
       "      <td>0.451</td>\n",
       "      <td>0.970</td>\n",
       "      <td>0.003550</td>\n",
       "      <td>0</td>\n",
       "      <td>0.1020</td>\n",
       "      <td>-4.938</td>\n",
       "      <td>1</td>\n",
       "      <td>0.1070</td>\n",
       "      <td>122.444</td>\n",
       "      <td>4</td>\n",
       "      <td>0.198</td>\n",
       "    </tr>\n",
       "    <tr>\n",
       "      <th>4</th>\n",
       "      <td>How You Remind Me</td>\n",
       "      <td>56</td>\n",
       "      <td>223826</td>\n",
       "      <td>0.000954</td>\n",
       "      <td>NaN</td>\n",
       "      <td>0.447</td>\n",
       "      <td>0.766</td>\n",
       "      <td>0.000000</td>\n",
       "      <td>10</td>\n",
       "      <td>0.1130</td>\n",
       "      <td>-5.065</td>\n",
       "      <td>1</td>\n",
       "      <td>0.0313</td>\n",
       "      <td>172.011</td>\n",
       "      <td>4</td>\n",
       "      <td>0.574</td>\n",
       "    </tr>\n",
       "    <tr>\n",
       "      <th>5</th>\n",
       "      <td>Bring Me To Life</td>\n",
       "      <td>80</td>\n",
       "      <td>235893</td>\n",
       "      <td>0.008950</td>\n",
       "      <td>NaN</td>\n",
       "      <td>0.316</td>\n",
       "      <td>0.945</td>\n",
       "      <td>0.000002</td>\n",
       "      <td>4</td>\n",
       "      <td>0.3960</td>\n",
       "      <td>-3.169</td>\n",
       "      <td>0</td>\n",
       "      <td>0.1240</td>\n",
       "      <td>189.931</td>\n",
       "      <td>4</td>\n",
       "      <td>0.320</td>\n",
       "    </tr>\n",
       "    <tr>\n",
       "      <th>6</th>\n",
       "      <td>Last Resort</td>\n",
       "      <td>81</td>\n",
       "      <td>199893</td>\n",
       "      <td>0.000504</td>\n",
       "      <td>NaN</td>\n",
       "      <td>0.581</td>\n",
       "      <td>0.887</td>\n",
       "      <td>0.001110</td>\n",
       "      <td>4</td>\n",
       "      <td>0.2680</td>\n",
       "      <td>-3.659</td>\n",
       "      <td>0</td>\n",
       "      <td>0.0624</td>\n",
       "      <td>90.578</td>\n",
       "      <td>4</td>\n",
       "      <td>0.724</td>\n",
       "    </tr>\n",
       "    <tr>\n",
       "      <th>7</th>\n",
       "      <td>Are You Gonna Be My Girl</td>\n",
       "      <td>76</td>\n",
       "      <td>213800</td>\n",
       "      <td>0.001480</td>\n",
       "      <td>NaN</td>\n",
       "      <td>0.613</td>\n",
       "      <td>0.953</td>\n",
       "      <td>0.000582</td>\n",
       "      <td>2</td>\n",
       "      <td>0.1520</td>\n",
       "      <td>-3.435</td>\n",
       "      <td>1</td>\n",
       "      <td>0.0855</td>\n",
       "      <td>105.046</td>\n",
       "      <td>4</td>\n",
       "      <td>0.537</td>\n",
       "    </tr>\n",
       "    <tr>\n",
       "      <th>8</th>\n",
       "      <td>Mr. Brightside</td>\n",
       "      <td>80</td>\n",
       "      <td>222586</td>\n",
       "      <td>0.001080</td>\n",
       "      <td>NaN</td>\n",
       "      <td>0.330</td>\n",
       "      <td>0.936</td>\n",
       "      <td>0.000000</td>\n",
       "      <td>1</td>\n",
       "      <td>0.0926</td>\n",
       "      <td>-3.660</td>\n",
       "      <td>1</td>\n",
       "      <td>0.0917</td>\n",
       "      <td>148.112</td>\n",
       "      <td>4</td>\n",
       "      <td>0.234</td>\n",
       "    </tr>\n",
       "    <tr>\n",
       "      <th>9</th>\n",
       "      <td>Sex on Fire</td>\n",
       "      <td>81</td>\n",
       "      <td>203346</td>\n",
       "      <td>0.001720</td>\n",
       "      <td>NaN</td>\n",
       "      <td>0.542</td>\n",
       "      <td>0.905</td>\n",
       "      <td>0.010400</td>\n",
       "      <td>9</td>\n",
       "      <td>0.1360</td>\n",
       "      <td>-5.653</td>\n",
       "      <td>1</td>\n",
       "      <td>0.0540</td>\n",
       "      <td>153.398</td>\n",
       "      <td>4</td>\n",
       "      <td>0.374</td>\n",
       "    </tr>\n",
       "    <tr>\n",
       "      <th>10</th>\n",
       "      <td>The Middle</td>\n",
       "      <td>78</td>\n",
       "      <td>168253</td>\n",
       "      <td>0.042400</td>\n",
       "      <td>NaN</td>\n",
       "      <td>0.629</td>\n",
       "      <td>0.897</td>\n",
       "      <td>0.000000</td>\n",
       "      <td>2</td>\n",
       "      <td>0.2630</td>\n",
       "      <td>-3.401</td>\n",
       "      <td>1</td>\n",
       "      <td>0.0483</td>\n",
       "      <td>161.944</td>\n",
       "      <td>4</td>\n",
       "      <td>0.930</td>\n",
       "    </tr>\n",
       "    <tr>\n",
       "      <th>11</th>\n",
       "      <td>Numb</td>\n",
       "      <td>63</td>\n",
       "      <td>185586</td>\n",
       "      <td>0.004600</td>\n",
       "      <td>NaN</td>\n",
       "      <td>0.496</td>\n",
       "      <td>0.863</td>\n",
       "      <td>NaN</td>\n",
       "      <td>9</td>\n",
       "      <td>0.6390</td>\n",
       "      <td>-4.153</td>\n",
       "      <td>1</td>\n",
       "      <td>0.0381</td>\n",
       "      <td>110.018</td>\n",
       "      <td>4</td>\n",
       "      <td>0.243</td>\n",
       "    </tr>\n",
       "  </tbody>\n",
       "</table>\n",
       "</div>"
      ],
      "text/plain": [
       "                     song_name  song_popularity  song_duration_ms  \\\n",
       "0   Boulevard of Broken Dreams               73            262333   \n",
       "1                   In The End               66            216933   \n",
       "2            Seven Nation Army               76            231733   \n",
       "3                   By The Way               74            216933   \n",
       "4            How You Remind Me               56            223826   \n",
       "5             Bring Me To Life               80            235893   \n",
       "6                  Last Resort               81            199893   \n",
       "7     Are You Gonna Be My Girl               76            213800   \n",
       "8               Mr. Brightside               80            222586   \n",
       "9                  Sex on Fire               81            203346   \n",
       "10                  The Middle               78            168253   \n",
       "11                        Numb               63            185586   \n",
       "\n",
       "    acousticness  originality  danceability  energy  instrumentalness  key  \\\n",
       "0       0.005520          NaN         0.496   0.682          0.000029    8   \n",
       "1       0.010300          NaN         0.542   0.853          0.000000    3   \n",
       "2       0.008170          NaN         0.737   0.463          0.447000    0   \n",
       "3       0.026400          NaN         0.451   0.970          0.003550    0   \n",
       "4       0.000954          NaN         0.447   0.766          0.000000   10   \n",
       "5       0.008950          NaN         0.316   0.945          0.000002    4   \n",
       "6       0.000504          NaN         0.581   0.887          0.001110    4   \n",
       "7       0.001480          NaN         0.613   0.953          0.000582    2   \n",
       "8       0.001080          NaN         0.330   0.936          0.000000    1   \n",
       "9       0.001720          NaN         0.542   0.905          0.010400    9   \n",
       "10      0.042400          NaN         0.629   0.897          0.000000    2   \n",
       "11      0.004600          NaN         0.496   0.863               NaN    9   \n",
       "\n",
       "    liveness  loudness  audio_mode  speechiness    tempo  time_signature  \\\n",
       "0     0.0589    -4.095           1       0.0294  167.060               4   \n",
       "1     0.1080    -6.407           0       0.0498  105.256               4   \n",
       "2     0.2550    -7.828           1       0.0792  123.881               4   \n",
       "3     0.1020    -4.938           1       0.1070  122.444               4   \n",
       "4     0.1130    -5.065           1       0.0313  172.011               4   \n",
       "5     0.3960    -3.169           0       0.1240  189.931               4   \n",
       "6     0.2680    -3.659           0       0.0624   90.578               4   \n",
       "7     0.1520    -3.435           1       0.0855  105.046               4   \n",
       "8     0.0926    -3.660           1       0.0917  148.112               4   \n",
       "9     0.1360    -5.653           1       0.0540  153.398               4   \n",
       "10    0.2630    -3.401           1       0.0483  161.944               4   \n",
       "11    0.6390    -4.153           1       0.0381  110.018               4   \n",
       "\n",
       "    audio_valence  \n",
       "0           0.474  \n",
       "1           0.370  \n",
       "2           0.324  \n",
       "3           0.198  \n",
       "4           0.574  \n",
       "5           0.320  \n",
       "6           0.724  \n",
       "7           0.537  \n",
       "8           0.234  \n",
       "9           0.374  \n",
       "10          0.930  \n",
       "11          0.243  "
      ]
     },
     "execution_count": 4,
     "metadata": {},
     "output_type": "execute_result"
    }
   ],
   "source": [
    "ds.head(12)"
   ]
  },
  {
   "cell_type": "code",
   "execution_count": 5,
   "metadata": {
    "colab": {
     "base_uri": "https://localhost:8080/",
     "height": 551
    },
    "id": "xCdO2HbumD0J",
    "outputId": "83eb1b24-b501-4cf1-aec0-81b869cebe39"
   },
   "outputs": [
    {
     "data": {
      "text/html": [
       "<div>\n",
       "<style scoped>\n",
       "    .dataframe tbody tr th:only-of-type {\n",
       "        vertical-align: middle;\n",
       "    }\n",
       "\n",
       "    .dataframe tbody tr th {\n",
       "        vertical-align: top;\n",
       "    }\n",
       "\n",
       "    .dataframe thead th {\n",
       "        text-align: right;\n",
       "    }\n",
       "</style>\n",
       "<table border=\"1\" class=\"dataframe\">\n",
       "  <thead>\n",
       "    <tr style=\"text-align: right;\">\n",
       "      <th></th>\n",
       "      <th>count</th>\n",
       "      <th>unique</th>\n",
       "      <th>top</th>\n",
       "      <th>freq</th>\n",
       "      <th>mean</th>\n",
       "      <th>std</th>\n",
       "      <th>min</th>\n",
       "      <th>25%</th>\n",
       "      <th>50%</th>\n",
       "      <th>75%</th>\n",
       "      <th>max</th>\n",
       "    </tr>\n",
       "  </thead>\n",
       "  <tbody>\n",
       "    <tr>\n",
       "      <th>song_name</th>\n",
       "      <td>18835</td>\n",
       "      <td>13070</td>\n",
       "      <td>Better</td>\n",
       "      <td>21</td>\n",
       "      <td>NaN</td>\n",
       "      <td>NaN</td>\n",
       "      <td>NaN</td>\n",
       "      <td>NaN</td>\n",
       "      <td>NaN</td>\n",
       "      <td>NaN</td>\n",
       "      <td>NaN</td>\n",
       "    </tr>\n",
       "    <tr>\n",
       "      <th>song_popularity</th>\n",
       "      <td>18835.0</td>\n",
       "      <td>NaN</td>\n",
       "      <td>NaN</td>\n",
       "      <td>NaN</td>\n",
       "      <td>52.991877</td>\n",
       "      <td>21.905654</td>\n",
       "      <td>0.0</td>\n",
       "      <td>40.0</td>\n",
       "      <td>56.0</td>\n",
       "      <td>69.0</td>\n",
       "      <td>100.0</td>\n",
       "    </tr>\n",
       "    <tr>\n",
       "      <th>song_duration_ms</th>\n",
       "      <td>18835.0</td>\n",
       "      <td>NaN</td>\n",
       "      <td>NaN</td>\n",
       "      <td>NaN</td>\n",
       "      <td>218211.587576</td>\n",
       "      <td>59887.540566</td>\n",
       "      <td>12000.0</td>\n",
       "      <td>184339.5</td>\n",
       "      <td>211306.0</td>\n",
       "      <td>242844.0</td>\n",
       "      <td>1799346.0</td>\n",
       "    </tr>\n",
       "    <tr>\n",
       "      <th>acousticness</th>\n",
       "      <td>18835.0</td>\n",
       "      <td>NaN</td>\n",
       "      <td>NaN</td>\n",
       "      <td>NaN</td>\n",
       "      <td>0.258539</td>\n",
       "      <td>0.288719</td>\n",
       "      <td>0.000001</td>\n",
       "      <td>0.0241</td>\n",
       "      <td>0.132</td>\n",
       "      <td>0.424</td>\n",
       "      <td>0.996</td>\n",
       "    </tr>\n",
       "    <tr>\n",
       "      <th>originality</th>\n",
       "      <td>5742.0</td>\n",
       "      <td>NaN</td>\n",
       "      <td>NaN</td>\n",
       "      <td>NaN</td>\n",
       "      <td>50.679032</td>\n",
       "      <td>29.07375</td>\n",
       "      <td>1.0</td>\n",
       "      <td>26.0</td>\n",
       "      <td>52.0</td>\n",
       "      <td>76.0</td>\n",
       "      <td>100.0</td>\n",
       "    </tr>\n",
       "    <tr>\n",
       "      <th>danceability</th>\n",
       "      <td>18835.0</td>\n",
       "      <td>NaN</td>\n",
       "      <td>NaN</td>\n",
       "      <td>NaN</td>\n",
       "      <td>0.633348</td>\n",
       "      <td>0.156723</td>\n",
       "      <td>0.0</td>\n",
       "      <td>0.533</td>\n",
       "      <td>0.645</td>\n",
       "      <td>0.748</td>\n",
       "      <td>0.987</td>\n",
       "    </tr>\n",
       "    <tr>\n",
       "      <th>energy</th>\n",
       "      <td>18835.0</td>\n",
       "      <td>NaN</td>\n",
       "      <td>NaN</td>\n",
       "      <td>NaN</td>\n",
       "      <td>0.644995</td>\n",
       "      <td>0.214101</td>\n",
       "      <td>0.00107</td>\n",
       "      <td>0.51</td>\n",
       "      <td>0.674</td>\n",
       "      <td>0.815</td>\n",
       "      <td>0.999</td>\n",
       "    </tr>\n",
       "    <tr>\n",
       "      <th>instrumentalness</th>\n",
       "      <td>18829.0</td>\n",
       "      <td>NaN</td>\n",
       "      <td>NaN</td>\n",
       "      <td>NaN</td>\n",
       "      <td>0.080157</td>\n",
       "      <td>0.264622</td>\n",
       "      <td>0.0</td>\n",
       "      <td>0.0</td>\n",
       "      <td>0.000011</td>\n",
       "      <td>0.00259</td>\n",
       "      <td>10.0</td>\n",
       "    </tr>\n",
       "    <tr>\n",
       "      <th>key</th>\n",
       "      <td>18835.0</td>\n",
       "      <td>NaN</td>\n",
       "      <td>NaN</td>\n",
       "      <td>NaN</td>\n",
       "      <td>5.289196</td>\n",
       "      <td>3.614595</td>\n",
       "      <td>0.0</td>\n",
       "      <td>2.0</td>\n",
       "      <td>5.0</td>\n",
       "      <td>8.0</td>\n",
       "      <td>11.0</td>\n",
       "    </tr>\n",
       "    <tr>\n",
       "      <th>liveness</th>\n",
       "      <td>18835.0</td>\n",
       "      <td>NaN</td>\n",
       "      <td>NaN</td>\n",
       "      <td>NaN</td>\n",
       "      <td>0.17965</td>\n",
       "      <td>0.143984</td>\n",
       "      <td>0.0109</td>\n",
       "      <td>0.0929</td>\n",
       "      <td>0.122</td>\n",
       "      <td>0.221</td>\n",
       "      <td>0.986</td>\n",
       "    </tr>\n",
       "    <tr>\n",
       "      <th>loudness</th>\n",
       "      <td>18835.0</td>\n",
       "      <td>NaN</td>\n",
       "      <td>NaN</td>\n",
       "      <td>NaN</td>\n",
       "      <td>-7.447435</td>\n",
       "      <td>3.827831</td>\n",
       "      <td>-38.768</td>\n",
       "      <td>-9.044</td>\n",
       "      <td>-6.555</td>\n",
       "      <td>-4.908</td>\n",
       "      <td>1.585</td>\n",
       "    </tr>\n",
       "    <tr>\n",
       "      <th>audio_mode</th>\n",
       "      <td>18835.0</td>\n",
       "      <td>NaN</td>\n",
       "      <td>NaN</td>\n",
       "      <td>NaN</td>\n",
       "      <td>0.628139</td>\n",
       "      <td>0.483314</td>\n",
       "      <td>0.0</td>\n",
       "      <td>0.0</td>\n",
       "      <td>1.0</td>\n",
       "      <td>1.0</td>\n",
       "      <td>1.0</td>\n",
       "    </tr>\n",
       "    <tr>\n",
       "      <th>speechiness</th>\n",
       "      <td>18835.0</td>\n",
       "      <td>NaN</td>\n",
       "      <td>NaN</td>\n",
       "      <td>NaN</td>\n",
       "      <td>0.102099</td>\n",
       "      <td>0.104378</td>\n",
       "      <td>0.0</td>\n",
       "      <td>0.0378</td>\n",
       "      <td>0.0555</td>\n",
       "      <td>0.119</td>\n",
       "      <td>0.941</td>\n",
       "    </tr>\n",
       "    <tr>\n",
       "      <th>tempo</th>\n",
       "      <td>18835.0</td>\n",
       "      <td>NaN</td>\n",
       "      <td>NaN</td>\n",
       "      <td>NaN</td>\n",
       "      <td>121.073154</td>\n",
       "      <td>28.714456</td>\n",
       "      <td>0.0</td>\n",
       "      <td>98.368</td>\n",
       "      <td>120.013</td>\n",
       "      <td>139.931</td>\n",
       "      <td>242.318</td>\n",
       "    </tr>\n",
       "    <tr>\n",
       "      <th>time_signature</th>\n",
       "      <td>18835.0</td>\n",
       "      <td>NaN</td>\n",
       "      <td>NaN</td>\n",
       "      <td>NaN</td>\n",
       "      <td>3.959119</td>\n",
       "      <td>0.298533</td>\n",
       "      <td>0.0</td>\n",
       "      <td>4.0</td>\n",
       "      <td>4.0</td>\n",
       "      <td>4.0</td>\n",
       "      <td>5.0</td>\n",
       "    </tr>\n",
       "    <tr>\n",
       "      <th>audio_valence</th>\n",
       "      <td>18835.0</td>\n",
       "      <td>NaN</td>\n",
       "      <td>NaN</td>\n",
       "      <td>NaN</td>\n",
       "      <td>0.527967</td>\n",
       "      <td>0.244632</td>\n",
       "      <td>0.0</td>\n",
       "      <td>0.335</td>\n",
       "      <td>0.527</td>\n",
       "      <td>0.725</td>\n",
       "      <td>0.984</td>\n",
       "    </tr>\n",
       "  </tbody>\n",
       "</table>\n",
       "</div>"
      ],
      "text/plain": [
       "                    count unique     top freq           mean           std  \\\n",
       "song_name           18835  13070  Better   21            NaN           NaN   \n",
       "song_popularity   18835.0    NaN     NaN  NaN      52.991877     21.905654   \n",
       "song_duration_ms  18835.0    NaN     NaN  NaN  218211.587576  59887.540566   \n",
       "acousticness      18835.0    NaN     NaN  NaN       0.258539      0.288719   \n",
       "originality        5742.0    NaN     NaN  NaN      50.679032      29.07375   \n",
       "danceability      18835.0    NaN     NaN  NaN       0.633348      0.156723   \n",
       "energy            18835.0    NaN     NaN  NaN       0.644995      0.214101   \n",
       "instrumentalness  18829.0    NaN     NaN  NaN       0.080157      0.264622   \n",
       "key               18835.0    NaN     NaN  NaN       5.289196      3.614595   \n",
       "liveness          18835.0    NaN     NaN  NaN        0.17965      0.143984   \n",
       "loudness          18835.0    NaN     NaN  NaN      -7.447435      3.827831   \n",
       "audio_mode        18835.0    NaN     NaN  NaN       0.628139      0.483314   \n",
       "speechiness       18835.0    NaN     NaN  NaN       0.102099      0.104378   \n",
       "tempo             18835.0    NaN     NaN  NaN     121.073154     28.714456   \n",
       "time_signature    18835.0    NaN     NaN  NaN       3.959119      0.298533   \n",
       "audio_valence     18835.0    NaN     NaN  NaN       0.527967      0.244632   \n",
       "\n",
       "                       min       25%       50%       75%        max  \n",
       "song_name              NaN       NaN       NaN       NaN        NaN  \n",
       "song_popularity        0.0      40.0      56.0      69.0      100.0  \n",
       "song_duration_ms   12000.0  184339.5  211306.0  242844.0  1799346.0  \n",
       "acousticness      0.000001    0.0241     0.132     0.424      0.996  \n",
       "originality            1.0      26.0      52.0      76.0      100.0  \n",
       "danceability           0.0     0.533     0.645     0.748      0.987  \n",
       "energy             0.00107      0.51     0.674     0.815      0.999  \n",
       "instrumentalness       0.0       0.0  0.000011   0.00259       10.0  \n",
       "key                    0.0       2.0       5.0       8.0       11.0  \n",
       "liveness            0.0109    0.0929     0.122     0.221      0.986  \n",
       "loudness           -38.768    -9.044    -6.555    -4.908      1.585  \n",
       "audio_mode             0.0       0.0       1.0       1.0        1.0  \n",
       "speechiness            0.0    0.0378    0.0555     0.119      0.941  \n",
       "tempo                  0.0    98.368   120.013   139.931    242.318  \n",
       "time_signature         0.0       4.0       4.0       4.0        5.0  \n",
       "audio_valence          0.0     0.335     0.527     0.725      0.984  "
      ]
     },
     "execution_count": 5,
     "metadata": {},
     "output_type": "execute_result"
    }
   ],
   "source": [
    "ds.describe(include='all').T"
   ]
  },
  {
   "cell_type": "markdown",
   "metadata": {
    "id": "E6OBr0J_nJ5w"
   },
   "source": [
    "\n",
    "\n",
    "*   This dataset contains information about 18.835 songs\n",
    "*   The most popular songs in this dataset have a popularity of 100. However, we can already consider very popular a song in the fourth quartile, which is 69 points and above.\n",
    "\n"
   ]
  },
  {
   "cell_type": "code",
   "execution_count": 6,
   "metadata": {
    "colab": {
     "base_uri": "https://localhost:8080/"
    },
    "id": "_cQVNLmvnf_P",
    "outputId": "b0d4edbc-3f03-406d-a11b-d52a8621c56e"
   },
   "outputs": [
    {
     "data": {
      "text/plain": [
       "3907"
      ]
     },
     "execution_count": 6,
     "metadata": {},
     "output_type": "execute_result"
    }
   ],
   "source": [
    " # Check duplicate values\n",
    "duplicates = ds.duplicated(subset=[\"song_name\", \"song_popularity\",\"song_duration_ms\",\"acousticness\", \"danceability\",\"energy\",\"instrumentalness\",\"key\",\"liveness\",\"loudness\",\"audio_mode\",\"speechiness\", \"tempo\", \"audio_valence\"])\n",
    "duplicates.sum() "
   ]
  },
  {
   "cell_type": "markdown",
   "metadata": {
    "id": "6wg7M_BohKe5"
   },
   "source": [
    "* Presence of significant number of duplicate values (approximately 20.75% of the dataset)\n",
    "* If we also consider the variable 'originality'  we have a total of 2006 duplicates.This means that 1901 songs probably are the same however have a value in originality that the others don't have or even have the same features but only with a different value in originality."
   ]
  },
  {
   "cell_type": "code",
   "execution_count": 7,
   "metadata": {
    "colab": {
     "base_uri": "https://localhost:8080/"
    },
    "id": "shnlBh2-rFaC",
    "outputId": "1a6e1c68-3f81-484b-afc2-ffda8dbd97e9"
   },
   "outputs": [
    {
     "name": "stdout",
     "output_type": "stream",
     "text": [
      "song_name               0\n",
      "song_popularity         0\n",
      "song_duration_ms        0\n",
      "acousticness            0\n",
      "originality         13093\n",
      "danceability            0\n",
      "energy                  0\n",
      "instrumentalness        6\n",
      "key                     0\n",
      "liveness                0\n",
      "loudness                0\n",
      "audio_mode              0\n",
      "speechiness             0\n",
      "tempo                   0\n",
      "time_signature          0\n",
      "audio_valence           0\n",
      "dtype: int64\n"
     ]
    }
   ],
   "source": [
    "# Check missing values\n",
    "print(ds.isnull().sum())"
   ]
  },
  {
   "cell_type": "markdown",
   "metadata": {
    "id": "dbk05RD1hf1u"
   },
   "source": [
    "* 69.51% of the records don't have information about the originality of the songs and also 0,03% in instrumentalness, we should be carefull about considering this criteria since it won't give us reliable insights.\n",
    "\n",
    "\n"
   ]
  },
  {
   "cell_type": "markdown",
   "metadata": {
    "id": "CvATlehBYH0n"
   },
   "source": [
    "## Variables Distribution\n",
    "\n",
    "In order to better understand our data, we decided to explore it using data visualization to show how our data is distributed in the variables we were provided."
   ]
  },
  {
   "cell_type": "markdown",
   "metadata": {
    "id": "dA53jxnCfDjd"
   },
   "source": [
    "### Distribution of target variable: \"song_popularity\""
   ]
  },
  {
   "cell_type": "code",
   "execution_count": 8,
   "metadata": {
    "colab": {
     "base_uri": "https://localhost:8080/"
    },
    "id": "JNVW3G-DiM0C",
    "outputId": "1ff19a90-22f6-437a-9734-73ba72fee6a9"
   },
   "outputs": [
    {
     "data": {
      "text/plain": [
       "137.2406645276829"
      ]
     },
     "execution_count": 8,
     "metadata": {},
     "output_type": "execute_result"
    }
   ],
   "source": [
    "#choosing the number of bins using the square root of the number of observation, in order to have a better distribution of the data\n",
    "math.sqrt(18835)"
   ]
  },
  {
   "cell_type": "code",
   "execution_count": 9,
   "metadata": {
    "colab": {
     "base_uri": "https://localhost:8080/",
     "height": 628
    },
    "id": "XJp1pmzd1R4G",
    "outputId": "d26e291b-b0a3-4e27-ddaa-29035be37dbc"
   },
   "outputs": [
    {
     "data": {
      "text/plain": [
       "Text(0, 0.5, 'frequency')"
      ]
     },
     "execution_count": 9,
     "metadata": {},
     "output_type": "execute_result"
    },
    {
     "data": {
      "image/png": "[encoded data removed]",
      "text/plain": [
       "<Figure size 700x700 with 1 Axes>"
      ]
     },
     "metadata": {},
     "output_type": "display_data"
    }
   ],
   "source": [
    "#Graphic to study the distribution of song_popularity\n",
    "ds[\"song_popularity\"].hist(bins=137, figsize=(7, 7), xlabelsize=8, ylabelsize=8);\n",
    "plt.xlabel(\"song_popularity\", fontsize=8)\n",
    "plt.ylabel(\"frequency\", fontsize=8)\n"
   ]
  },
  {
   "cell_type": "markdown",
   "metadata": {
    "id": "tmU1G7RPZ0u4"
   },
   "source": [
    "### Binary and Categorical variables\n"
   ]
  },
  {
   "cell_type": "code",
   "execution_count": 10,
   "metadata": {
    "colab": {
     "base_uri": "https://localhost:8080/"
    },
    "id": "_Q7kOFoYco1f",
    "outputId": "c2ffcc00-9c51-42ec-d121-14fca02939d0"
   },
   "outputs": [
    {
     "data": {
      "text/plain": [
       "array([1, 0], dtype=int64)"
      ]
     },
     "execution_count": 10,
     "metadata": {},
     "output_type": "execute_result"
    }
   ],
   "source": [
    "#Count how many categories have our categorical variables\n",
    "ds[\"audio_mode\"].unique()"
   ]
  },
  {
   "cell_type": "code",
   "execution_count": 11,
   "metadata": {
    "colab": {
     "base_uri": "https://localhost:8080/",
     "height": 503
    },
    "id": "mHXT6XoYcicS",
    "outputId": "42164e76-caac-4bf9-c838-278a09a2098c"
   },
   "outputs": [
    {
     "data": {
      "image/png": "[encoded data removed]",
      "text/plain": [
       "<Figure size 800x550 with 1 Axes>"
      ]
     },
     "metadata": {},
     "output_type": "display_data"
    }
   ],
   "source": [
    "#Distribution of 'audio_ mode'\n",
    "plt.figure()\n",
    "sns.countplot(x='audio_mode', data=ds, palette='RdBu')\n",
    "plt.xticks([0,1])\n",
    "plt.show()"
   ]
  },
  {
   "cell_type": "markdown",
   "metadata": {
    "id": "w3ur2ZFKVv8I"
   },
   "source": [
    "As we can see our variable \"audio_mode\" is a binary feature that indicates whether a song is primarily instrumental (when value=1) or primarily contains vocals (when value=0). The bar plot below indicates that around 63% of our dataset is primarily instrumental. Some type of genre that are primarily instrumental are associated with classical or jazz music."
   ]
  },
  {
   "cell_type": "code",
   "execution_count": 12,
   "metadata": {
    "colab": {
     "base_uri": "https://localhost:8080/"
    },
    "id": "L5wBxnAXcl6U",
    "outputId": "8e8e4da3-3dc0-4626-cfcd-a948417eefea"
   },
   "outputs": [
    {
     "data": {
      "text/plain": [
       "array([4, 3, 1, 5, 0], dtype=int64)"
      ]
     },
     "execution_count": 12,
     "metadata": {},
     "output_type": "execute_result"
    }
   ],
   "source": [
    "ds['time_signature'].unique()"
   ]
  },
  {
   "cell_type": "code",
   "execution_count": 13,
   "metadata": {
    "colab": {
     "base_uri": "https://localhost:8080/",
     "height": 503
    },
    "id": "WprKm6y6coN9",
    "outputId": "02576464-0294-489e-80f7-22ad91c78e24"
   },
   "outputs": [
    {
     "data": {
      "image/png": "[encoded data removed]",
      "text/plain": [
       "<Figure size 800x550 with 1 Axes>"
      ]
     },
     "metadata": {},
     "output_type": "display_data"
    }
   ],
   "source": [
    "plt.figure()\n",
    "sns.countplot(x='time_signature', data=ds, palette='RdBu')\n",
    "plt.xticks([0, 1, 3, 4, 5])\n",
    "plt.show()"
   ]
  },
  {
   "cell_type": "markdown",
   "metadata": {
    "id": "HENEpEXOcwYA"
   },
   "source": [
    "We can see that our variable \"time_signature\" is a categorical variable that indicates the number of beats in each bar song. Simple time signatures (most common) are represented by the values 2, 3 and 4 and the remaining signatures are considered as compound. In our dataset we have around 93% of song which the time_signature is 4. One of the most common time signatures. But also we have a little percentage of time_signature= 1 or time_signature= 5."
   ]
  },
  {
   "cell_type": "markdown",
   "metadata": {
    "id": "d2EVt5uVwTTX"
   },
   "source": [
    "## Numeric Variables- Histograms"
   ]
  },
  {
   "cell_type": "code",
   "execution_count": 14,
   "metadata": {
    "colab": {
     "base_uri": "https://localhost:8080/",
     "height": 1000
    },
    "id": "TReAoSzq7Wb8",
    "outputId": "dc856290-d4bf-4154-dc51-62b41bbe0ad6"
   },
   "outputs": [
    {
     "data": {
      "image/png": "[encoded data removed]",
      "text/plain": [
       "<Figure size 1000x1000 with 8 Axes>"
      ]
     },
     "metadata": {},
     "output_type": "display_data"
    }
   ],
   "source": [
    "#the distribution of the other variables\n",
    "cols =['acousticness', 'danceability', 'energy', 'instrumentalness', 'liveness', 'loudness', 'tempo', 'audio_valence']\n",
    "\n",
    "fig, axs = plt.subplots(nrows=len(cols), figsize=(10, 10))\n",
    "\n",
    "for i, col in enumerate(cols):\n",
    "    ds[col].hist(bins=137, ax=axs[i], xlabelsize=8, ylabelsize=8)\n",
    "    axs[i].set_xlabel(col, fontsize=8)\n",
    "    axs[i].set_ylabel('frequency', fontsize=8)\n",
    "\n",
    "plt.tight_layout()\n",
    "plt.show()"
   ]
  },
  {
   "cell_type": "markdown",
   "metadata": {
    "id": "70Z3LLqqwhR9"
   },
   "source": [
    "## Numeric Variables- Boxplots"
   ]
  },
  {
   "cell_type": "code",
   "execution_count": 15,
   "metadata": {
    "colab": {
     "base_uri": "https://localhost:8080/",
     "height": 1000
    },
    "id": "buMRVrtw2A7O",
    "outputId": "7a469e21-ad86-4dd9-beac-e91015ecf045"
   },
   "outputs": [
    {
     "data": {
      "image/png": "[encoded data removed]",
      "text/plain": [
       "<Figure size 1700x1500 with 16 Axes>"
      ]
     },
     "metadata": {},
     "output_type": "display_data"
    }
   ],
   "source": [
    "#Do boxplots of all numerical variables\n",
    "numerical=ds.select_dtypes(include=[np.number]).columns.tolist()\n",
    "fig, ax = plt.subplots(4,4 , figsize=(17, 15))\n",
    "for var, subplot in zip(ds[numerical], ax.flatten()):\n",
    "    sns.boxplot(x=ds[var], ax=subplot)\n"
   ]
  },
  {
   "cell_type": "markdown",
   "metadata": {
    "id": "HL8LP0cdj57u"
   },
   "source": [
    "* We can see a significant number of outliers in song_duration_ms. \n",
    "* Tempo, liveness, loudness and speechiness are features that can have larger impact on popularity and as we can see we have some outliers that we should deal with later."
   ]
  },
  {
   "cell_type": "code",
   "execution_count": 16,
   "metadata": {
    "colab": {
     "base_uri": "https://localhost:8080/"
    },
    "id": "uDH9E4DPly-r",
    "outputId": "0dc47494-eaa5-49b3-8ca9-9172d381b762"
   },
   "outputs": [
    {
     "name": "stdout",
     "output_type": "stream",
     "text": [
      "song_popularity     1.000000\n",
      "song_duration_ms   -0.018899\n",
      "acousticness       -0.065181\n",
      "originality         0.017308\n",
      "danceability        0.104290\n",
      "energy              0.001365\n",
      "instrumentalness   -0.107865\n",
      "key                -0.013160\n",
      "liveness           -0.038937\n",
      "loudness            0.099442\n",
      "audio_mode         -0.004969\n",
      "speechiness         0.021479\n",
      "tempo              -0.022672\n",
      "time_signature      0.034983\n",
      "audio_valence      -0.052895\n",
      "Name: song_popularity, dtype: float64\n"
     ]
    }
   ],
   "source": [
    "#Calculate the correlation matrix for all the variables in ds and then selects the target variable.\n",
    "corr_matrix= ds.corr()\n",
    "song_populatiry_corr= corr_matrix[\"song_popularity\"]\n",
    "print(song_populatiry_corr)"
   ]
  },
  {
   "cell_type": "markdown",
   "metadata": {
    "id": "SkGPfGU302Qn"
   },
   "source": [
    "* As we can see none of the variables shows a significant positive or negative correlation with the target variable, song popularity. "
   ]
  },
  {
   "cell_type": "code",
   "execution_count": 17,
   "metadata": {
    "colab": {
     "base_uri": "https://localhost:8080/"
    },
    "id": "HvZCkRChq7mN",
    "outputId": "9288387a-a266-401d-be4e-9f5021cc41f9"
   },
   "outputs": [
    {
     "name": "stdout",
     "output_type": "stream",
     "text": [
      "danceability has a correlation coefficient of 0.104 with song_popularity\n",
      "loudness has a correlation coefficient of 0.099 with song_popularity\n"
     ]
    }
   ],
   "source": [
    "top_corr_vars = song_populatiry_corr.drop('song_popularity').nlargest(2)\n",
    "for var, corr in top_corr_vars.iteritems():\n",
    "    print(f\"{var} has a correlation coefficient of {corr:.3f} with song_popularity\")\n"
   ]
  },
  {
   "cell_type": "markdown",
   "metadata": {
    "id": "zGneoOoquMzH"
   },
   "source": [
    "* \"danceability\" and \"loudness\" are the two variables with highest positive correlation with our target variable but the correlations are relatively low - less than 0.11."
   ]
  },
  {
   "cell_type": "code",
   "execution_count": 23,
   "metadata": {
    "colab": {
     "base_uri": "https://localhost:8080/",
     "height": 510
    },
    "id": "ejLToj5K2arP",
    "outputId": "2ef62ae4-d7eb-489b-cbd2-dca61c018d0e"
   },
   "outputs": [
    {
     "ename": "LinAlgError",
     "evalue": "singular matrix",
     "output_type": "error",
     "traceback": [
      "\u001b[1;31m---------------------------------------------------------------------------\u001b[0m",
      "\u001b[1;31mLinAlgError\u001b[0m                               Traceback (most recent call last)",
      "\u001b[1;32m~\\AppData\\Local\\Temp\\ipykernel_15788\\3782057377.py\u001b[0m in \u001b[0;36m<module>\u001b[1;34m\u001b[0m\n\u001b[0;32m      2\u001b[0m \u001b[1;31m#cols=['song_popularity','song_duration_ms','acousticness','originality']\u001b[0m\u001b[1;33m\u001b[0m\u001b[1;33m\u001b[0m\u001b[0m\n\u001b[0;32m      3\u001b[0m \u001b[0mcols\u001b[0m\u001b[1;33m=\u001b[0m\u001b[1;33m[\u001b[0m\u001b[1;34m'song_popularity'\u001b[0m\u001b[1;33m,\u001b[0m\u001b[1;34m'danceability'\u001b[0m\u001b[1;33m,\u001b[0m\u001b[1;34m'loudness'\u001b[0m\u001b[1;33m]\u001b[0m\u001b[1;33m\u001b[0m\u001b[1;33m\u001b[0m\u001b[0m\n\u001b[1;32m----> 4\u001b[1;33m \u001b[0mg\u001b[0m \u001b[1;33m=\u001b[0m \u001b[0msns\u001b[0m\u001b[1;33m.\u001b[0m\u001b[0mpairplot\u001b[0m\u001b[1;33m(\u001b[0m\u001b[0mds\u001b[0m\u001b[1;33m[\u001b[0m\u001b[0mcols\u001b[0m\u001b[1;33m]\u001b[0m\u001b[1;33m,\u001b[0m \u001b[0mhue\u001b[0m\u001b[1;33m=\u001b[0m\u001b[1;34m\"song_popularity\"\u001b[0m\u001b[1;33m)\u001b[0m\u001b[1;33m\u001b[0m\u001b[1;33m\u001b[0m\u001b[0m\n\u001b[0m",
      "\u001b[1;32m~\\anaconda3\\lib\\site-packages\\seaborn\\_decorators.py\u001b[0m in \u001b[0;36minner_f\u001b[1;34m(*args, **kwargs)\u001b[0m\n\u001b[0;32m     44\u001b[0m             )\n\u001b[0;32m     45\u001b[0m         \u001b[0mkwargs\u001b[0m\u001b[1;33m.\u001b[0m\u001b[0mupdate\u001b[0m\u001b[1;33m(\u001b[0m\u001b[1;33m{\u001b[0m\u001b[0mk\u001b[0m\u001b[1;33m:\u001b[0m \u001b[0marg\u001b[0m \u001b[1;32mfor\u001b[0m \u001b[0mk\u001b[0m\u001b[1;33m,\u001b[0m \u001b[0marg\u001b[0m \u001b[1;32min\u001b[0m \u001b[0mzip\u001b[0m\u001b[1;33m(\u001b[0m\u001b[0msig\u001b[0m\u001b[1;33m.\u001b[0m\u001b[0mparameters\u001b[0m\u001b[1;33m,\u001b[0m \u001b[0margs\u001b[0m\u001b[1;33m)\u001b[0m\u001b[1;33m}\u001b[0m\u001b[1;33m)\u001b[0m\u001b[1;33m\u001b[0m\u001b[1;33m\u001b[0m\u001b[0m\n\u001b[1;32m---> 46\u001b[1;33m         \u001b[1;32mreturn\u001b[0m \u001b[0mf\u001b[0m\u001b[1;33m(\u001b[0m\u001b[1;33m**\u001b[0m\u001b[0mkwargs\u001b[0m\u001b[1;33m)\u001b[0m\u001b[1;33m\u001b[0m\u001b[1;33m\u001b[0m\u001b[0m\n\u001b[0m\u001b[0;32m     47\u001b[0m     \u001b[1;32mreturn\u001b[0m \u001b[0minner_f\u001b[0m\u001b[1;33m\u001b[0m\u001b[1;33m\u001b[0m\u001b[0m\n\u001b[0;32m     48\u001b[0m \u001b[1;33m\u001b[0m\u001b[0m\n",
      "\u001b[1;32m~\\anaconda3\\lib\\site-packages\\seaborn\\axisgrid.py\u001b[0m in \u001b[0;36mpairplot\u001b[1;34m(data, hue, hue_order, palette, vars, x_vars, y_vars, kind, diag_kind, markers, height, aspect, corner, dropna, plot_kws, diag_kws, grid_kws, size)\u001b[0m\n\u001b[0;32m   2128\u001b[0m         \u001b[0mdiag_kws\u001b[0m\u001b[1;33m.\u001b[0m\u001b[0msetdefault\u001b[0m\u001b[1;33m(\u001b[0m\u001b[1;34m\"fill\"\u001b[0m\u001b[1;33m,\u001b[0m \u001b[1;32mTrue\u001b[0m\u001b[1;33m)\u001b[0m\u001b[1;33m\u001b[0m\u001b[1;33m\u001b[0m\u001b[0m\n\u001b[0;32m   2129\u001b[0m         \u001b[0mdiag_kws\u001b[0m\u001b[1;33m.\u001b[0m\u001b[0msetdefault\u001b[0m\u001b[1;33m(\u001b[0m\u001b[1;34m\"warn_singular\"\u001b[0m\u001b[1;33m,\u001b[0m \u001b[1;32mFalse\u001b[0m\u001b[1;33m)\u001b[0m\u001b[1;33m\u001b[0m\u001b[1;33m\u001b[0m\u001b[0m\n\u001b[1;32m-> 2130\u001b[1;33m         \u001b[0mgrid\u001b[0m\u001b[1;33m.\u001b[0m\u001b[0mmap_diag\u001b[0m\u001b[1;33m(\u001b[0m\u001b[0mkdeplot\u001b[0m\u001b[1;33m,\u001b[0m \u001b[1;33m**\u001b[0m\u001b[0mdiag_kws\u001b[0m\u001b[1;33m)\u001b[0m\u001b[1;33m\u001b[0m\u001b[1;33m\u001b[0m\u001b[0m\n\u001b[0m\u001b[0;32m   2131\u001b[0m \u001b[1;33m\u001b[0m\u001b[0m\n\u001b[0;32m   2132\u001b[0m     \u001b[1;31m# Maybe plot on the off-diagonals\u001b[0m\u001b[1;33m\u001b[0m\u001b[1;33m\u001b[0m\u001b[0m\n",
      "\u001b[1;32m~\\anaconda3\\lib\\site-packages\\seaborn\\axisgrid.py\u001b[0m in \u001b[0;36mmap_diag\u001b[1;34m(self, func, **kwargs)\u001b[0m\n\u001b[0;32m   1476\u001b[0m             \u001b[0mplot_kwargs\u001b[0m\u001b[1;33m.\u001b[0m\u001b[0msetdefault\u001b[0m\u001b[1;33m(\u001b[0m\u001b[1;34m\"hue_order\"\u001b[0m\u001b[1;33m,\u001b[0m \u001b[0mself\u001b[0m\u001b[1;33m.\u001b[0m\u001b[0m_hue_order\u001b[0m\u001b[1;33m)\u001b[0m\u001b[1;33m\u001b[0m\u001b[1;33m\u001b[0m\u001b[0m\n\u001b[0;32m   1477\u001b[0m             \u001b[0mplot_kwargs\u001b[0m\u001b[1;33m.\u001b[0m\u001b[0msetdefault\u001b[0m\u001b[1;33m(\u001b[0m\u001b[1;34m\"palette\"\u001b[0m\u001b[1;33m,\u001b[0m \u001b[0mself\u001b[0m\u001b[1;33m.\u001b[0m\u001b[0m_orig_palette\u001b[0m\u001b[1;33m)\u001b[0m\u001b[1;33m\u001b[0m\u001b[1;33m\u001b[0m\u001b[0m\n\u001b[1;32m-> 1478\u001b[1;33m             \u001b[0mfunc\u001b[0m\u001b[1;33m(\u001b[0m\u001b[0mx\u001b[0m\u001b[1;33m=\u001b[0m\u001b[0mvector\u001b[0m\u001b[1;33m,\u001b[0m \u001b[1;33m**\u001b[0m\u001b[0mplot_kwargs\u001b[0m\u001b[1;33m)\u001b[0m\u001b[1;33m\u001b[0m\u001b[1;33m\u001b[0m\u001b[0m\n\u001b[0m\u001b[0;32m   1479\u001b[0m             \u001b[0max\u001b[0m\u001b[1;33m.\u001b[0m\u001b[0mlegend_\u001b[0m \u001b[1;33m=\u001b[0m \u001b[1;32mNone\u001b[0m\u001b[1;33m\u001b[0m\u001b[1;33m\u001b[0m\u001b[0m\n\u001b[0;32m   1480\u001b[0m \u001b[1;33m\u001b[0m\u001b[0m\n",
      "\u001b[1;32m~\\anaconda3\\lib\\site-packages\\seaborn\\_decorators.py\u001b[0m in \u001b[0;36minner_f\u001b[1;34m(*args, **kwargs)\u001b[0m\n\u001b[0;32m     44\u001b[0m             )\n\u001b[0;32m     45\u001b[0m         \u001b[0mkwargs\u001b[0m\u001b[1;33m.\u001b[0m\u001b[0mupdate\u001b[0m\u001b[1;33m(\u001b[0m\u001b[1;33m{\u001b[0m\u001b[0mk\u001b[0m\u001b[1;33m:\u001b[0m \u001b[0marg\u001b[0m \u001b[1;32mfor\u001b[0m \u001b[0mk\u001b[0m\u001b[1;33m,\u001b[0m \u001b[0marg\u001b[0m \u001b[1;32min\u001b[0m \u001b[0mzip\u001b[0m\u001b[1;33m(\u001b[0m\u001b[0msig\u001b[0m\u001b[1;33m.\u001b[0m\u001b[0mparameters\u001b[0m\u001b[1;33m,\u001b[0m \u001b[0margs\u001b[0m\u001b[1;33m)\u001b[0m\u001b[1;33m}\u001b[0m\u001b[1;33m)\u001b[0m\u001b[1;33m\u001b[0m\u001b[1;33m\u001b[0m\u001b[0m\n\u001b[1;32m---> 46\u001b[1;33m         \u001b[1;32mreturn\u001b[0m \u001b[0mf\u001b[0m\u001b[1;33m(\u001b[0m\u001b[1;33m**\u001b[0m\u001b[0mkwargs\u001b[0m\u001b[1;33m)\u001b[0m\u001b[1;33m\u001b[0m\u001b[1;33m\u001b[0m\u001b[0m\n\u001b[0m\u001b[0;32m     47\u001b[0m     \u001b[1;32mreturn\u001b[0m \u001b[0minner_f\u001b[0m\u001b[1;33m\u001b[0m\u001b[1;33m\u001b[0m\u001b[0m\n\u001b[0;32m     48\u001b[0m \u001b[1;33m\u001b[0m\u001b[0m\n",
      "\u001b[1;32m~\\anaconda3\\lib\\site-packages\\seaborn\\distributions.py\u001b[0m in \u001b[0;36mkdeplot\u001b[1;34m(x, y, shade, vertical, kernel, bw, gridsize, cut, clip, legend, cumulative, shade_lowest, cbar, cbar_ax, cbar_kws, ax, weights, hue, palette, hue_order, hue_norm, multiple, common_norm, common_grid, levels, thresh, bw_method, bw_adjust, log_scale, color, fill, data, data2, warn_singular, **kwargs)\u001b[0m\n\u001b[0;32m   1768\u001b[0m             \u001b[0mplot_kws\u001b[0m\u001b[1;33m[\u001b[0m\u001b[1;34m\"color\"\u001b[0m\u001b[1;33m]\u001b[0m \u001b[1;33m=\u001b[0m \u001b[0mcolor\u001b[0m\u001b[1;33m\u001b[0m\u001b[1;33m\u001b[0m\u001b[0m\n\u001b[0;32m   1769\u001b[0m \u001b[1;33m\u001b[0m\u001b[0m\n\u001b[1;32m-> 1770\u001b[1;33m         p.plot_univariate_density(\n\u001b[0m\u001b[0;32m   1771\u001b[0m             \u001b[0mmultiple\u001b[0m\u001b[1;33m=\u001b[0m\u001b[0mmultiple\u001b[0m\u001b[1;33m,\u001b[0m\u001b[1;33m\u001b[0m\u001b[1;33m\u001b[0m\u001b[0m\n\u001b[0;32m   1772\u001b[0m             \u001b[0mcommon_norm\u001b[0m\u001b[1;33m=\u001b[0m\u001b[0mcommon_norm\u001b[0m\u001b[1;33m,\u001b[0m\u001b[1;33m\u001b[0m\u001b[1;33m\u001b[0m\u001b[0m\n",
      "\u001b[1;32m~\\anaconda3\\lib\\site-packages\\seaborn\\distributions.py\u001b[0m in \u001b[0;36mplot_univariate_density\u001b[1;34m(self, multiple, common_norm, common_grid, warn_singular, fill, legend, estimate_kws, **plot_kws)\u001b[0m\n\u001b[0;32m    926\u001b[0m \u001b[1;33m\u001b[0m\u001b[0m\n\u001b[0;32m    927\u001b[0m         \u001b[1;31m# Do the computation\u001b[0m\u001b[1;33m\u001b[0m\u001b[1;33m\u001b[0m\u001b[0m\n\u001b[1;32m--> 928\u001b[1;33m         densities = self._compute_univariate_density(\n\u001b[0m\u001b[0;32m    929\u001b[0m             \u001b[0mself\u001b[0m\u001b[1;33m.\u001b[0m\u001b[0mdata_variable\u001b[0m\u001b[1;33m,\u001b[0m\u001b[1;33m\u001b[0m\u001b[1;33m\u001b[0m\u001b[0m\n\u001b[0;32m    930\u001b[0m             \u001b[0mcommon_norm\u001b[0m\u001b[1;33m,\u001b[0m\u001b[1;33m\u001b[0m\u001b[1;33m\u001b[0m\u001b[0m\n",
      "\u001b[1;32m~\\anaconda3\\lib\\site-packages\\seaborn\\distributions.py\u001b[0m in \u001b[0;36m_compute_univariate_density\u001b[1;34m(self, data_variable, common_norm, common_grid, estimate_kws, log_scale, warn_singular)\u001b[0m\n\u001b[0;32m    324\u001b[0m \u001b[1;33m\u001b[0m\u001b[0m\n\u001b[0;32m    325\u001b[0m             \u001b[1;31m# Estimate the density of observations at this level\u001b[0m\u001b[1;33m\u001b[0m\u001b[1;33m\u001b[0m\u001b[0m\n\u001b[1;32m--> 326\u001b[1;33m             \u001b[0mdensity\u001b[0m\u001b[1;33m,\u001b[0m \u001b[0msupport\u001b[0m \u001b[1;33m=\u001b[0m \u001b[0mestimator\u001b[0m\u001b[1;33m(\u001b[0m\u001b[0mobservations\u001b[0m\u001b[1;33m,\u001b[0m \u001b[0mweights\u001b[0m\u001b[1;33m=\u001b[0m\u001b[0mweights\u001b[0m\u001b[1;33m)\u001b[0m\u001b[1;33m\u001b[0m\u001b[1;33m\u001b[0m\u001b[0m\n\u001b[0m\u001b[0;32m    327\u001b[0m \u001b[1;33m\u001b[0m\u001b[0m\n\u001b[0;32m    328\u001b[0m             \u001b[1;32mif\u001b[0m \u001b[0mlog_scale\u001b[0m\u001b[1;33m:\u001b[0m\u001b[1;33m\u001b[0m\u001b[1;33m\u001b[0m\u001b[0m\n",
      "\u001b[1;32m~\\anaconda3\\lib\\site-packages\\seaborn\\_statistics.py\u001b[0m in \u001b[0;36m__call__\u001b[1;34m(self, x1, x2, weights)\u001b[0m\n\u001b[0;32m    185\u001b[0m         \u001b[1;34m\"\"\"Fit and evaluate on univariate or bivariate data.\"\"\"\u001b[0m\u001b[1;33m\u001b[0m\u001b[1;33m\u001b[0m\u001b[0m\n\u001b[0;32m    186\u001b[0m         \u001b[1;32mif\u001b[0m \u001b[0mx2\u001b[0m \u001b[1;32mis\u001b[0m \u001b[1;32mNone\u001b[0m\u001b[1;33m:\u001b[0m\u001b[1;33m\u001b[0m\u001b[1;33m\u001b[0m\u001b[0m\n\u001b[1;32m--> 187\u001b[1;33m             \u001b[1;32mreturn\u001b[0m \u001b[0mself\u001b[0m\u001b[1;33m.\u001b[0m\u001b[0m_eval_univariate\u001b[0m\u001b[1;33m(\u001b[0m\u001b[0mx1\u001b[0m\u001b[1;33m,\u001b[0m \u001b[0mweights\u001b[0m\u001b[1;33m)\u001b[0m\u001b[1;33m\u001b[0m\u001b[1;33m\u001b[0m\u001b[0m\n\u001b[0m\u001b[0;32m    188\u001b[0m         \u001b[1;32melse\u001b[0m\u001b[1;33m:\u001b[0m\u001b[1;33m\u001b[0m\u001b[1;33m\u001b[0m\u001b[0m\n\u001b[0;32m    189\u001b[0m             \u001b[1;32mreturn\u001b[0m \u001b[0mself\u001b[0m\u001b[1;33m.\u001b[0m\u001b[0m_eval_bivariate\u001b[0m\u001b[1;33m(\u001b[0m\u001b[0mx1\u001b[0m\u001b[1;33m,\u001b[0m \u001b[0mx2\u001b[0m\u001b[1;33m,\u001b[0m \u001b[0mweights\u001b[0m\u001b[1;33m)\u001b[0m\u001b[1;33m\u001b[0m\u001b[1;33m\u001b[0m\u001b[0m\n",
      "\u001b[1;32m~\\anaconda3\\lib\\site-packages\\seaborn\\_statistics.py\u001b[0m in \u001b[0;36m_eval_univariate\u001b[1;34m(self, x, weights)\u001b[0m\n\u001b[0;32m    144\u001b[0m         \u001b[0msupport\u001b[0m \u001b[1;33m=\u001b[0m \u001b[0mself\u001b[0m\u001b[1;33m.\u001b[0m\u001b[0msupport\u001b[0m\u001b[1;33m\u001b[0m\u001b[1;33m\u001b[0m\u001b[0m\n\u001b[0;32m    145\u001b[0m         \u001b[1;32mif\u001b[0m \u001b[0msupport\u001b[0m \u001b[1;32mis\u001b[0m \u001b[1;32mNone\u001b[0m\u001b[1;33m:\u001b[0m\u001b[1;33m\u001b[0m\u001b[1;33m\u001b[0m\u001b[0m\n\u001b[1;32m--> 146\u001b[1;33m             \u001b[0msupport\u001b[0m \u001b[1;33m=\u001b[0m \u001b[0mself\u001b[0m\u001b[1;33m.\u001b[0m\u001b[0mdefine_support\u001b[0m\u001b[1;33m(\u001b[0m\u001b[0mx\u001b[0m\u001b[1;33m,\u001b[0m \u001b[0mcache\u001b[0m\u001b[1;33m=\u001b[0m\u001b[1;32mFalse\u001b[0m\u001b[1;33m)\u001b[0m\u001b[1;33m\u001b[0m\u001b[1;33m\u001b[0m\u001b[0m\n\u001b[0m\u001b[0;32m    147\u001b[0m \u001b[1;33m\u001b[0m\u001b[0m\n\u001b[0;32m    148\u001b[0m         \u001b[0mkde\u001b[0m \u001b[1;33m=\u001b[0m \u001b[0mself\u001b[0m\u001b[1;33m.\u001b[0m\u001b[0m_fit\u001b[0m\u001b[1;33m(\u001b[0m\u001b[0mx\u001b[0m\u001b[1;33m,\u001b[0m \u001b[0mweights\u001b[0m\u001b[1;33m)\u001b[0m\u001b[1;33m\u001b[0m\u001b[1;33m\u001b[0m\u001b[0m\n",
      "\u001b[1;32m~\\anaconda3\\lib\\site-packages\\seaborn\\_statistics.py\u001b[0m in \u001b[0;36mdefine_support\u001b[1;34m(self, x1, x2, weights, cache)\u001b[0m\n\u001b[0;32m    117\u001b[0m         \u001b[1;34m\"\"\"Create the evaluation grid for a given data set.\"\"\"\u001b[0m\u001b[1;33m\u001b[0m\u001b[1;33m\u001b[0m\u001b[0m\n\u001b[0;32m    118\u001b[0m         \u001b[1;32mif\u001b[0m \u001b[0mx2\u001b[0m \u001b[1;32mis\u001b[0m \u001b[1;32mNone\u001b[0m\u001b[1;33m:\u001b[0m\u001b[1;33m\u001b[0m\u001b[1;33m\u001b[0m\u001b[0m\n\u001b[1;32m--> 119\u001b[1;33m             \u001b[0msupport\u001b[0m \u001b[1;33m=\u001b[0m \u001b[0mself\u001b[0m\u001b[1;33m.\u001b[0m\u001b[0m_define_support_univariate\u001b[0m\u001b[1;33m(\u001b[0m\u001b[0mx1\u001b[0m\u001b[1;33m,\u001b[0m \u001b[0mweights\u001b[0m\u001b[1;33m)\u001b[0m\u001b[1;33m\u001b[0m\u001b[1;33m\u001b[0m\u001b[0m\n\u001b[0m\u001b[0;32m    120\u001b[0m         \u001b[1;32melse\u001b[0m\u001b[1;33m:\u001b[0m\u001b[1;33m\u001b[0m\u001b[1;33m\u001b[0m\u001b[0m\n\u001b[0;32m    121\u001b[0m             \u001b[0msupport\u001b[0m \u001b[1;33m=\u001b[0m \u001b[0mself\u001b[0m\u001b[1;33m.\u001b[0m\u001b[0m_define_support_bivariate\u001b[0m\u001b[1;33m(\u001b[0m\u001b[0mx1\u001b[0m\u001b[1;33m,\u001b[0m \u001b[0mx2\u001b[0m\u001b[1;33m,\u001b[0m \u001b[0mweights\u001b[0m\u001b[1;33m)\u001b[0m\u001b[1;33m\u001b[0m\u001b[1;33m\u001b[0m\u001b[0m\n",
      "\u001b[1;32m~\\anaconda3\\lib\\site-packages\\seaborn\\_statistics.py\u001b[0m in \u001b[0;36m_define_support_univariate\u001b[1;34m(self, x, weights)\u001b[0m\n\u001b[0;32m     89\u001b[0m     \u001b[1;32mdef\u001b[0m \u001b[0m_define_support_univariate\u001b[0m\u001b[1;33m(\u001b[0m\u001b[0mself\u001b[0m\u001b[1;33m,\u001b[0m \u001b[0mx\u001b[0m\u001b[1;33m,\u001b[0m \u001b[0mweights\u001b[0m\u001b[1;33m)\u001b[0m\u001b[1;33m:\u001b[0m\u001b[1;33m\u001b[0m\u001b[1;33m\u001b[0m\u001b[0m\n\u001b[0;32m     90\u001b[0m         \u001b[1;34m\"\"\"Create a 1D grid of evaluation points.\"\"\"\u001b[0m\u001b[1;33m\u001b[0m\u001b[1;33m\u001b[0m\u001b[0m\n\u001b[1;32m---> 91\u001b[1;33m         \u001b[0mkde\u001b[0m \u001b[1;33m=\u001b[0m \u001b[0mself\u001b[0m\u001b[1;33m.\u001b[0m\u001b[0m_fit\u001b[0m\u001b[1;33m(\u001b[0m\u001b[0mx\u001b[0m\u001b[1;33m,\u001b[0m \u001b[0mweights\u001b[0m\u001b[1;33m)\u001b[0m\u001b[1;33m\u001b[0m\u001b[1;33m\u001b[0m\u001b[0m\n\u001b[0m\u001b[0;32m     92\u001b[0m         \u001b[0mbw\u001b[0m \u001b[1;33m=\u001b[0m \u001b[0mnp\u001b[0m\u001b[1;33m.\u001b[0m\u001b[0msqrt\u001b[0m\u001b[1;33m(\u001b[0m\u001b[0mkde\u001b[0m\u001b[1;33m.\u001b[0m\u001b[0mcovariance\u001b[0m\u001b[1;33m.\u001b[0m\u001b[0msqueeze\u001b[0m\u001b[1;33m(\u001b[0m\u001b[1;33m)\u001b[0m\u001b[1;33m)\u001b[0m\u001b[1;33m\u001b[0m\u001b[1;33m\u001b[0m\u001b[0m\n\u001b[0;32m     93\u001b[0m         grid = self._define_support_grid(\n",
      "\u001b[1;32m~\\anaconda3\\lib\\site-packages\\seaborn\\_statistics.py\u001b[0m in \u001b[0;36m_fit\u001b[1;34m(self, fit_data, weights)\u001b[0m\n\u001b[0;32m    135\u001b[0m             \u001b[0mfit_kws\u001b[0m\u001b[1;33m[\u001b[0m\u001b[1;34m\"weights\"\u001b[0m\u001b[1;33m]\u001b[0m \u001b[1;33m=\u001b[0m \u001b[0mweights\u001b[0m\u001b[1;33m\u001b[0m\u001b[1;33m\u001b[0m\u001b[0m\n\u001b[0;32m    136\u001b[0m \u001b[1;33m\u001b[0m\u001b[0m\n\u001b[1;32m--> 137\u001b[1;33m         \u001b[0mkde\u001b[0m \u001b[1;33m=\u001b[0m \u001b[0mstats\u001b[0m\u001b[1;33m.\u001b[0m\u001b[0mgaussian_kde\u001b[0m\u001b[1;33m(\u001b[0m\u001b[0mfit_data\u001b[0m\u001b[1;33m,\u001b[0m \u001b[1;33m**\u001b[0m\u001b[0mfit_kws\u001b[0m\u001b[1;33m)\u001b[0m\u001b[1;33m\u001b[0m\u001b[1;33m\u001b[0m\u001b[0m\n\u001b[0m\u001b[0;32m    138\u001b[0m         \u001b[0mkde\u001b[0m\u001b[1;33m.\u001b[0m\u001b[0mset_bandwidth\u001b[0m\u001b[1;33m(\u001b[0m\u001b[0mkde\u001b[0m\u001b[1;33m.\u001b[0m\u001b[0mfactor\u001b[0m \u001b[1;33m*\u001b[0m \u001b[0mself\u001b[0m\u001b[1;33m.\u001b[0m\u001b[0mbw_adjust\u001b[0m\u001b[1;33m)\u001b[0m\u001b[1;33m\u001b[0m\u001b[1;33m\u001b[0m\u001b[0m\n\u001b[0;32m    139\u001b[0m \u001b[1;33m\u001b[0m\u001b[0m\n",
      "\u001b[1;32m~\\anaconda3\\lib\\site-packages\\scipy\\stats\\_kde.py\u001b[0m in \u001b[0;36m__init__\u001b[1;34m(self, dataset, bw_method, weights)\u001b[0m\n\u001b[0;32m    205\u001b[0m             \u001b[0mself\u001b[0m\u001b[1;33m.\u001b[0m\u001b[0m_neff\u001b[0m \u001b[1;33m=\u001b[0m \u001b[1;36m1\u001b[0m\u001b[1;33m/\u001b[0m\u001b[0msum\u001b[0m\u001b[1;33m(\u001b[0m\u001b[0mself\u001b[0m\u001b[1;33m.\u001b[0m\u001b[0m_weights\u001b[0m\u001b[1;33m**\u001b[0m\u001b[1;36m2\u001b[0m\u001b[1;33m)\u001b[0m\u001b[1;33m\u001b[0m\u001b[1;33m\u001b[0m\u001b[0m\n\u001b[0;32m    206\u001b[0m \u001b[1;33m\u001b[0m\u001b[0m\n\u001b[1;32m--> 207\u001b[1;33m         \u001b[0mself\u001b[0m\u001b[1;33m.\u001b[0m\u001b[0mset_bandwidth\u001b[0m\u001b[1;33m(\u001b[0m\u001b[0mbw_method\u001b[0m\u001b[1;33m=\u001b[0m\u001b[0mbw_method\u001b[0m\u001b[1;33m)\u001b[0m\u001b[1;33m\u001b[0m\u001b[1;33m\u001b[0m\u001b[0m\n\u001b[0m\u001b[0;32m    208\u001b[0m \u001b[1;33m\u001b[0m\u001b[0m\n\u001b[0;32m    209\u001b[0m     \u001b[1;32mdef\u001b[0m \u001b[0mevaluate\u001b[0m\u001b[1;33m(\u001b[0m\u001b[0mself\u001b[0m\u001b[1;33m,\u001b[0m \u001b[0mpoints\u001b[0m\u001b[1;33m)\u001b[0m\u001b[1;33m:\u001b[0m\u001b[1;33m\u001b[0m\u001b[1;33m\u001b[0m\u001b[0m\n",
      "\u001b[1;32m~\\anaconda3\\lib\\site-packages\\scipy\\stats\\_kde.py\u001b[0m in \u001b[0;36mset_bandwidth\u001b[1;34m(self, bw_method)\u001b[0m\n\u001b[0;32m    553\u001b[0m             \u001b[1;32mraise\u001b[0m \u001b[0mValueError\u001b[0m\u001b[1;33m(\u001b[0m\u001b[0mmsg\u001b[0m\u001b[1;33m)\u001b[0m\u001b[1;33m\u001b[0m\u001b[1;33m\u001b[0m\u001b[0m\n\u001b[0;32m    554\u001b[0m \u001b[1;33m\u001b[0m\u001b[0m\n\u001b[1;32m--> 555\u001b[1;33m         \u001b[0mself\u001b[0m\u001b[1;33m.\u001b[0m\u001b[0m_compute_covariance\u001b[0m\u001b[1;33m(\u001b[0m\u001b[1;33m)\u001b[0m\u001b[1;33m\u001b[0m\u001b[1;33m\u001b[0m\u001b[0m\n\u001b[0m\u001b[0;32m    556\u001b[0m \u001b[1;33m\u001b[0m\u001b[0m\n\u001b[0;32m    557\u001b[0m     \u001b[1;32mdef\u001b[0m \u001b[0m_compute_covariance\u001b[0m\u001b[1;33m(\u001b[0m\u001b[0mself\u001b[0m\u001b[1;33m)\u001b[0m\u001b[1;33m:\u001b[0m\u001b[1;33m\u001b[0m\u001b[1;33m\u001b[0m\u001b[0m\n",
      "\u001b[1;32m~\\anaconda3\\lib\\site-packages\\scipy\\stats\\_kde.py\u001b[0m in \u001b[0;36m_compute_covariance\u001b[1;34m(self)\u001b[0m\n\u001b[0;32m    565\u001b[0m                                                \u001b[0mbias\u001b[0m\u001b[1;33m=\u001b[0m\u001b[1;32mFalse\u001b[0m\u001b[1;33m,\u001b[0m\u001b[1;33m\u001b[0m\u001b[1;33m\u001b[0m\u001b[0m\n\u001b[0;32m    566\u001b[0m                                                aweights=self.weights))\n\u001b[1;32m--> 567\u001b[1;33m             \u001b[0mself\u001b[0m\u001b[1;33m.\u001b[0m\u001b[0m_data_inv_cov\u001b[0m \u001b[1;33m=\u001b[0m \u001b[0mlinalg\u001b[0m\u001b[1;33m.\u001b[0m\u001b[0minv\u001b[0m\u001b[1;33m(\u001b[0m\u001b[0mself\u001b[0m\u001b[1;33m.\u001b[0m\u001b[0m_data_covariance\u001b[0m\u001b[1;33m)\u001b[0m\u001b[1;33m\u001b[0m\u001b[1;33m\u001b[0m\u001b[0m\n\u001b[0m\u001b[0;32m    568\u001b[0m \u001b[1;33m\u001b[0m\u001b[0m\n\u001b[0;32m    569\u001b[0m         \u001b[0mself\u001b[0m\u001b[1;33m.\u001b[0m\u001b[0mcovariance\u001b[0m \u001b[1;33m=\u001b[0m \u001b[0mself\u001b[0m\u001b[1;33m.\u001b[0m\u001b[0m_data_covariance\u001b[0m \u001b[1;33m*\u001b[0m \u001b[0mself\u001b[0m\u001b[1;33m.\u001b[0m\u001b[0mfactor\u001b[0m\u001b[1;33m**\u001b[0m\u001b[1;36m2\u001b[0m\u001b[1;33m\u001b[0m\u001b[1;33m\u001b[0m\u001b[0m\n",
      "\u001b[1;32m~\\anaconda3\\lib\\site-packages\\scipy\\linalg\\_basic.py\u001b[0m in \u001b[0;36minv\u001b[1;34m(a, overwrite_a, check_finite)\u001b[0m\n\u001b[0;32m    954\u001b[0m         \u001b[0minv_a\u001b[0m\u001b[1;33m,\u001b[0m \u001b[0minfo\u001b[0m \u001b[1;33m=\u001b[0m \u001b[0mgetri\u001b[0m\u001b[1;33m(\u001b[0m\u001b[0mlu\u001b[0m\u001b[1;33m,\u001b[0m \u001b[0mpiv\u001b[0m\u001b[1;33m,\u001b[0m \u001b[0mlwork\u001b[0m\u001b[1;33m=\u001b[0m\u001b[0mlwork\u001b[0m\u001b[1;33m,\u001b[0m \u001b[0moverwrite_lu\u001b[0m\u001b[1;33m=\u001b[0m\u001b[1;36m1\u001b[0m\u001b[1;33m)\u001b[0m\u001b[1;33m\u001b[0m\u001b[1;33m\u001b[0m\u001b[0m\n\u001b[0;32m    955\u001b[0m     \u001b[1;32mif\u001b[0m \u001b[0minfo\u001b[0m \u001b[1;33m>\u001b[0m \u001b[1;36m0\u001b[0m\u001b[1;33m:\u001b[0m\u001b[1;33m\u001b[0m\u001b[1;33m\u001b[0m\u001b[0m\n\u001b[1;32m--> 956\u001b[1;33m         \u001b[1;32mraise\u001b[0m \u001b[0mLinAlgError\u001b[0m\u001b[1;33m(\u001b[0m\u001b[1;34m\"singular matrix\"\u001b[0m\u001b[1;33m)\u001b[0m\u001b[1;33m\u001b[0m\u001b[1;33m\u001b[0m\u001b[0m\n\u001b[0m\u001b[0;32m    957\u001b[0m     \u001b[1;32mif\u001b[0m \u001b[0minfo\u001b[0m \u001b[1;33m<\u001b[0m \u001b[1;36m0\u001b[0m\u001b[1;33m:\u001b[0m\u001b[1;33m\u001b[0m\u001b[1;33m\u001b[0m\u001b[0m\n\u001b[0;32m    958\u001b[0m         raise ValueError('illegal value in %d-th argument of internal '\n",
      "\u001b[1;31mLinAlgError\u001b[0m: singular matrix"
     ]
    },
    {
     "data": {
      "image/png": "[encoded data removed]",
      "text/plain": [
       "<Figure size 500x500 with 6 Axes>"
      ]
     },
     "metadata": {},
     "output_type": "display_data"
    }
   ],
   "source": [
    "# Pair plot with variables with highes positive correlation with song_popularity\n",
    "#cols=['song_popularity','song_duration_ms','acousticness','originality']\n",
    "cols=['song_popularity','danceability','loudness']\n",
    "g = sns.pairplot(ds[cols], hue=\"song_popularity\")"
   ]
  },
  {
   "cell_type": "code",
   "execution_count": null,
   "metadata": {
    "colab": {
     "base_uri": "https://localhost:8080/"
    },
    "id": "Y-MUUKHArnHi",
    "outputId": "c997d3b1-5686-4067-ed61-71bb27fcc719"
   },
   "outputs": [],
   "source": [
    "top_corr_vars = song_populatiry_corr.drop('song_popularity').nsmallest(2)\n",
    "for var, corr in top_corr_vars.iteritems():\n",
    "    print(f\"{var} has a correlation coefficient of {corr:.3f} with song_popularity\")\n"
   ]
  },
  {
   "cell_type": "markdown",
   "metadata": {
    "id": "m0JVktk4ttjb"
   },
   "source": [
    "* On the other hand, \"instrumentalness\" and \"acoustiness\" are the one with highest negative correlation. "
   ]
  },
  {
   "cell_type": "code",
   "execution_count": null,
   "metadata": {
    "colab": {
     "base_uri": "https://localhost:8080/",
     "height": 510
    },
    "id": "gPaNT0EZvllK",
    "outputId": "a85ebcf0-cd2a-420d-ebde-85de566ec021"
   },
   "outputs": [],
   "source": [
    "# Pair plot with variables with highes positive correlation with song_popularity\n",
    "cols=['song_popularity','instrumentalness','acousticness']\n",
    "g = sns.pairplot(ds[cols], hue=\"song_popularity\")"
   ]
  },
  {
   "cell_type": "code",
   "execution_count": null,
   "metadata": {
    "colab": {
     "base_uri": "https://localhost:8080/",
     "height": 1000
    },
    "id": "BAlwd2j84Jnv",
    "outputId": "0fb789c6-ad2d-4f89-fbe2-b05884dc82ba"
   },
   "outputs": [],
   "source": [
    "# Pair plot some of the numerical variables with song_popularity\n",
    "cols=['song_popularity', \"liveness\", \"loudness\", \"audio_mode\", \"speechiness\", \"tempo\", \"time_signature\", \"audio_valence\"]\n",
    "g = sns.pairplot(ds[cols], hue=\"song_popularity\")\n"
   ]
  },
  {
   "cell_type": "code",
   "execution_count": null,
   "metadata": {
    "colab": {
     "base_uri": "https://localhost:8080/",
     "height": 860
    },
    "id": "Qcyf15vVxciB",
    "outputId": "ca6459e5-0b55-4bf0-fd85-f2cf632845b1"
   },
   "outputs": [],
   "source": [
    "# Compute the correlation matrix - Spearman\n",
    "corr = ds.corr(method='spearman')\n",
    "\n",
    "# Generate a mask for the upper triangle\n",
    "mask = np.triu(np.ones_like(corr, dtype=bool))\n",
    "\n",
    "# Set up the matplotlib figure\n",
    "f, ax = plt.subplots(figsize=(11, 9))\n",
    "\n",
    "# Draw the heatmap with the mask and correct aspect ratio\n",
    "sns.heatmap(corr, mask = mask, cmap = 'RdBu', vmax = 1, vmin=-1, center = 0,\n",
    "            square = True, annot = True, linewidths = .5, cbar_kws = {\"shrink\": .5})"
   ]
  },
  {
   "cell_type": "markdown",
   "metadata": {
    "id": "QkBJtks11fh-"
   },
   "source": [
    "We decided also to computed the correlation between all the variables and some information we found is:\n",
    "* \"Loudness\" and \"Energy\" have the highest positive correlation compared with all the other variables. This means that if  one of them increases, the other will also increase.\n",
    "* In opposite direction, \"Energy\" and \"Acoustiness\" have the highest negative correlation which means that if one increases the other one will decrease. They behave in opposite direction.\n",
    "* Also in the negative way, we can see that \"Loudness\" and \"Acousticness\" have a correlation coefficient of -0,45, which is already a medium strengh of correlation. "
   ]
  },
  {
   "cell_type": "markdown",
   "metadata": {
    "id": "OnXv29HKsUsj"
   },
   "source": [
    "#Data Preparation"
   ]
  },
  {
   "cell_type": "code",
   "execution_count": null,
   "metadata": {
    "id": "PkSskzZ6VUxM"
   },
   "outputs": [],
   "source": [
    "# Create a modeling dataset from the original dataset\n",
    "X = ds.copy(deep=True)"
   ]
  },
  {
   "cell_type": "markdown",
   "metadata": {
    "id": "_vmARfnZ9J6F"
   },
   "source": [
    "Taking into account what we observe in the data understanding phase, we saw that the variable \"Originality\" had a significant number of missing values (69,51%) the solution we addopt was to remove this variable from the data set. This decision was took under 2 reasons: \n",
    "* One of them is based in the aspect that originality is a hard thing to meausure or compare, since it´s quiteb subjective. \n",
    "* The other reason is that by amputating with random values considering their stadistics such as the mean, min, max, std constant to the missing values, this would not be representative or \"real\" to our model, since we would be taking conclusions based only on 31,49% of data. \n",
    "\n",
    "As a result of this, we evaluted the risk of taking this variable out and its relevance to our model concerning the objetive."
   ]
  },
  {
   "cell_type": "code",
   "execution_count": null,
   "metadata": {
    "id": "1CuLS1Gb8MC5"
   },
   "outputs": [],
   "source": [
    "# Since in data understanding we determined that the \"originality\" column wouldn't be of much use, it's better to delete it to save processing power\n",
    "del X[\"originality\"]"
   ]
  },
  {
   "cell_type": "code",
   "execution_count": null,
   "metadata": {
    "colab": {
     "base_uri": "https://localhost:8080/"
    },
    "id": "Zog4ed_qy6zq",
    "outputId": "0f3ecf90-15f7-4e05-92de-f96d890a0f3b"
   },
   "outputs": [],
   "source": [
    "X = X.drop_duplicates([\"song_name\", \"song_popularity\",\"song_duration_ms\",\"acousticness\", \"danceability\",\"energy\",\"instrumentalness\",\"key\",\"liveness\",\"loudness\",\"audio_mode\",\"speechiness\", \"tempo\", \"audio_valence\"])\n",
    "X.duplicated(subset=[\"song_name\", \"song_popularity\",\"song_duration_ms\",\"acousticness\", \"danceability\",\"energy\",\"instrumentalness\",\"key\",\"liveness\",\"loudness\",\"audio_mode\",\"speechiness\", \"tempo\", \"audio_valence\"]).sum()"
   ]
  },
  {
   "cell_type": "code",
   "execution_count": null,
   "metadata": {
    "colab": {
     "base_uri": "https://localhost:8080/"
    },
    "id": "Ln6MSpvq-ydp",
    "outputId": "a6c93b9f-8849-40c6-d2fd-a91617f13d01"
   },
   "outputs": [],
   "source": [
    "len(X.index)"
   ]
  },
  {
   "cell_type": "markdown",
   "metadata": {
    "id": "KQrucL85AXbR"
   },
   "source": [
    "* We found that we have 14928 rows in our data after removing duplicate rows (i.e. rows that had exactly the same values in all variables). We don't believe that these were different versions of each song or the same song sung by different authors, since if this were the case, variables such as tempo or loudness would have been different."
   ]
  },
  {
   "cell_type": "code",
   "execution_count": null,
   "metadata": {
    "id": "AWj7RUOcgrFM"
   },
   "outputs": [],
   "source": [
    "#Since the song_name column contains strings, which the machine learning models we plan to use can't process, we decided to drop that column too.\n",
    "del X [\"song_name\"]"
   ]
  },
  {
   "cell_type": "markdown",
   "metadata": {
    "id": "y4o-GHr6-2v8"
   },
   "source": [
    "* Since the song name is not a relevant variable to our model, and would constrain his implementation we decided to take this variable out of our dataset.\n",
    "* After all, we can say that there are songs with exactly the name but what defines and makes the difference between one and another is all their features together."
   ]
  },
  {
   "cell_type": "code",
   "execution_count": null,
   "metadata": {
    "colab": {
     "base_uri": "https://localhost:8080/"
    },
    "id": "uWf-kKCn81gE",
    "outputId": "3fc69dbe-3d86-425c-f2f7-d1713916bcb8"
   },
   "outputs": [],
   "source": [
    "# We detected 6 songs that didn't have any information about \"instrumentalness\", we decided to replace the null values with the median\n",
    "\n",
    "X[\"instrumentalness\"] =  X[\"instrumentalness\"].fillna((X[\"instrumentalness\"].median()))\n",
    "X[\"instrumentalness\"].isna().sum()"
   ]
  },
  {
   "cell_type": "markdown",
   "metadata": {
    "id": "K3aSS8Bk-oqF"
   },
   "source": [
    "## Handling Outliers: \n",
    "##### Outliers are data points that are significally different from our data. As we showed before in our bloxplot graph, we have some variables that have a significant number of outliers such as liveness, loudness and speechiness. \n",
    "##### We did three differents approaches such as log and boxcox transformation and also median of the variable but the results were not as good as we expected.\n",
    "##### Finally we decided to transform the outliers using the median instead of deleting them so they are no longer outliers. In this way, we can have normally distributed data. \n"
   ]
  },
  {
   "cell_type": "code",
   "execution_count": null,
   "metadata": {
    "id": "j29eMdV6vkTI"
   },
   "outputs": [],
   "source": [
    "# We replace the outliers with the median for each feature\n",
    "median = X.loc[(X['liveness']>0.6) & (X['liveness']<0.15), 'liveness'].median()\n",
    "X.loc[X.liveness < 0.6, 'liveness'] = median\n",
    "X.loc[X.liveness > 0.15, 'liveness'] = median\n",
    "\n",
    "median = X.loc[(X['song_duration_ms']>80000) & (X['song_duration_ms']<350000), 'song_duration_ms'].median()\n",
    "X.loc[X.song_duration_ms < 80000, 'song_duration_ms'] = median\n",
    "X.loc[X.song_duration_ms > 350000, 'song_duration_ms'] = median\n",
    "\n",
    "median = X.loc[(X['danceability']>0.05) & (X['danceability']<0.2), 'danceability'].median()\n",
    "X.loc[X.danceability < 0.05, 'danceability'] = median\n",
    "X.loc[X.danceability > 0.2, 'danceability'] = median\n",
    "\n",
    "median = X.loc[(X['loudness']>-15) & (X['loudness']<1), 'loudness'].median()\n",
    "X.loc[X.loudness < -15, 'loudness'] = median\n",
    "X.loc[X.loudness > 1, 'loudness'] = median\n",
    "\n",
    "median = X.loc[X['speechiness']<0.25, 'speechiness'].median()\n",
    "X.loc[X.speechiness > 0.25, 'speechiness'] = np.nan\n",
    "X.fillna(median,inplace=True)\n",
    "\n",
    "median = X.loc[(X['tempo']>49) & (X['tempo']<200), 'tempo'].median()\n",
    "X.loc[X.tempo < 49, 'tempo'] = median\n",
    "X.loc[X.tempo > 200, 'tempo'] = median\n",
    "\n",
    "X.loc[X.time_signature != 4, 'time_signature'] = 4\n",
    "\n",
    "median = X.loc[X['instrumentalness']<1, 'instrumentalness'].median()\n",
    "X.loc[X.instrumentalness > 0.2, 'instrumentalness'] = np.nan\n",
    "X.fillna(median,inplace=True)\n"
   ]
  },
  {
   "cell_type": "code",
   "execution_count": null,
   "metadata": {
    "colab": {
     "base_uri": "https://localhost:8080/",
     "height": 631
    },
    "id": "MFX7wYEblGxr",
    "outputId": "4b3f8153-b980-4ea2-b34d-b30474a85fd3"
   },
   "outputs": [],
   "source": [
    "#Do boxplots of all numerical variables again to check our variables after the removal of outliers\n",
    "numerical=X.select_dtypes(include=[np.number]).columns.tolist()\n",
    "fig, ax = plt.subplots(4,4 , figsize=(17, 15))\n",
    "for var, subplot in zip(X[numerical], ax.flatten()):\n",
    "    sns.boxplot(x=X[var], ax=subplot)"
   ]
  },
  {
   "cell_type": "markdown",
   "metadata": {
    "id": "Xz5vbKEGo4oC"
   },
   "source": [
    "* After handling with the outliers in our data, we can see that we still have some outliers. This can be for many reasons, such measurement errors, data entry errors, and we in this case we would say we have natural variability in some variables. We decided to continue our model with the outliers since they can also be helpful. These remaining outliers are representative in our dataset knowing we are dealing with different types of songs."
   ]
  },
  {
   "cell_type": "code",
   "execution_count": null,
   "metadata": {
    "colab": {
     "base_uri": "https://localhost:8080/",
     "height": 487
    },
    "id": "B5MO82zyWI7f",
    "outputId": "41169ebf-7d31-414a-b0b5-f0bb4f124a9c"
   },
   "outputs": [],
   "source": [
    "X"
   ]
  },
  {
   "cell_type": "markdown",
   "metadata": {
    "id": "rSPlD6jyQCVw"
   },
   "source": [
    "# Modelling "
   ]
  },
  {
   "cell_type": "markdown",
   "metadata": {
    "id": "7bG6wiAm33fy"
   },
   "source": [
    "## Model 1: Multi-layer Perceptron (MLP) Regressor"
   ]
  },
  {
   "cell_type": "code",
   "execution_count": null,
   "metadata": {
    "colab": {
     "base_uri": "https://localhost:8080/"
    },
    "id": "p2-lNANpQCVx",
    "outputId": "3a1061ad-c808-4360-da78-007d336063cd"
   },
   "outputs": [],
   "source": [
    "# Create the Target\n",
    "y = X['song_popularity']\n",
    "X = X.drop(['song_popularity'], 1)"
   ]
  },
  {
   "cell_type": "code",
   "execution_count": null,
   "metadata": {
    "id": "QUtpMdvwQCVx"
   },
   "outputs": [],
   "source": [
    "# Normalize training data\n",
    "scaler = MinMaxScaler(feature_range=(0, 1))\n",
    "\n",
    "# MinMax scaler returns an array, so the dataframe must be recreated\n",
    "ds_scaled = pd.DataFrame(scaler.fit_transform(X.values), columns=X.columns, index=X.index)"
   ]
  },
  {
   "cell_type": "code",
   "execution_count": null,
   "metadata": {
    "id": "0LB0sJ5qQCVy"
   },
   "outputs": [],
   "source": [
    "# Split the dataset intro train and test\n",
    "X_train, X_test, y_train, y_test = train_test_split(ds_scaled, y, train_size = 0.75, test_size = 0.25, random_state = 123)"
   ]
  },
  {
   "cell_type": "code",
   "execution_count": null,
   "metadata": {
    "colab": {
     "base_uri": "https://localhost:8080/"
    },
    "id": "MjiinnfpekAA",
    "outputId": "cf96f8ed-3379-479a-89b5-acb1636d34ce"
   },
   "outputs": [],
   "source": [
    "print(\"X_train shape:\", X_train.shape)\n",
    "print(\"X_test shape:\", X_test.shape)\n",
    "print(\"y_train shape:\", y_train.shape)\n",
    "print(\"y_test shape:\", y_test.shape)"
   ]
  },
  {
   "cell_type": "code",
   "execution_count": null,
   "metadata": {
    "id": "J7YVKX4nQCVz"
   },
   "outputs": [],
   "source": [
    "# Create the model\n",
    "estimator = MLPRegressor(random_state=123, hidden_layer_sizes=6, max_iter=400)"
   ]
  },
  {
   "cell_type": "code",
   "execution_count": null,
   "metadata": {
    "colab": {
     "base_uri": "https://localhost:8080/",
     "height": 695
    },
    "id": "b3IAVZ2TQCV0",
    "outputId": "00396a6a-6c78-4d37-dfd8-5f316cf56d48"
   },
   "outputs": [],
   "source": [
    "# Plot the learning curve\n",
    "fig, ax = plt.subplots(figsize=(9, 7))\n",
    "cv = 10\n",
    "sizes = np.linspace(0.1, 1.0, 5)\n",
    "visualizer = LearningCurve(estimator=estimator, cv=cv, scoring='r2', train_sizes=sizes, n_jobs=4, random_state=123)\n",
    "visualizer.fit(X_train, y_train)\n",
    "visualizer.show(ax=ax)"
   ]
  },
  {
   "cell_type": "markdown",
   "metadata": {
    "id": "3LQW_zOc4NRZ"
   },
   "source": [
    "The initial R-squared scores of -0.9 suggest that the initial model is not performing well on the data. But we can see that,  as the number of samples in the training set increases, the R-squared score for the training set reaches -0.02 and the cross-validation set score increases too, reaching -0.023 at approximately 3.500 in the X-axis. \n",
    "\n",
    "This suggests that the model is improving as more data is being used to train it at this point. However, the fact that the prediction accuracy is higher in the training set than in the cross-validation set shows that there is a tendency to overfitting that becomes more prominent as more data is added.\n",
    "\n",
    "Both lines continue to be slightly separated, but they go up progressively, reaching 0.02 for the training set and 0.022 on the cross-validation set by the end of the analysis.\n",
    "\n",
    "The learning curve plot suggests that the model may be overfitting the training data, and its performance on the unseen data is not good. Plus, the cross-validation set has a much wider shade than the training set, which indicates that the variance is higher. This means that the predictive accuracy of this model is not as good on unseen data as on the training data."
   ]
  },
  {
   "cell_type": "code",
   "execution_count": null,
   "metadata": {
    "colab": {
     "base_uri": "https://localhost:8080/",
     "height": 167
    },
    "id": "H2WFwr2yQCV0",
    "outputId": "c983e5b3-434e-484d-ad1e-e276db2e3a2f"
   },
   "outputs": [],
   "source": [
    "# Create and train the model\n",
    "estimator.fit(X_train, y_train)"
   ]
  },
  {
   "cell_type": "markdown",
   "metadata": {
    "id": "bkjqHEqH4Cr2"
   },
   "source": [
    "###Evaluation 1"
   ]
  },
  {
   "cell_type": "code",
   "execution_count": null,
   "metadata": {
    "id": "RDpj7uTeQCV0"
   },
   "outputs": [],
   "source": [
    "# predict y for X_train and X_test\n",
    "y_pred_train = estimator.predict(X_train) \n",
    "y_pred_test = estimator.predict(X_test) "
   ]
  },
  {
   "cell_type": "code",
   "execution_count": null,
   "metadata": {
    "id": "PulNLbxmQCV1"
   },
   "outputs": [],
   "source": [
    "# Function to create dataframe with metrics\n",
    "def performanceMetricsDF(metricsObj, yTrain, yPredTrain, yTest, yPredTest,set1='Train', set2='Test'):\n",
    "  measures_list = ['MAE','RMSE', 'R^2','MAPE (%)','MAX Error']\n",
    "  train_results = [metricsObj.mean_absolute_error(yTrain, yPredTrain),\n",
    "                np.sqrt(metricsObj.mean_squared_error(yTrain, yPredTrain)),\n",
    "                metricsObj.r2_score(yTrain, yPredTrain),\n",
    "                metricsObj.mean_absolute_percentage_error(yTrain, yPredTrain),\n",
    "                metricsObj.max_error(yTrain, yPredTrain)]\n",
    "  test_results = [metricsObj.mean_absolute_error(yTest, yPredTest),\n",
    "                np.sqrt(metricsObj.mean_squared_error(yTest, yPredTest)),\n",
    "                metricsObj.r2_score(yTest, yPredTest),\n",
    "                  metricsObj.mean_absolute_percentage_error(yTest, yPredTest),\n",
    "                metricsObj.max_error(yTest, yPredTest)]\n",
    "  resultsDF = pd.DataFrame({'Measure': measures_list, set1: train_results, set2:test_results})\n",
    "  return(resultsDF)"
   ]
  },
  {
   "cell_type": "code",
   "execution_count": null,
   "metadata": {
    "colab": {
     "base_uri": "https://localhost:8080/",
     "height": 206
    },
    "id": "2BbVYedrQCV1",
    "outputId": "ffc43521-819e-4c73-c038-77aa49a6a938"
   },
   "outputs": [],
   "source": [
    "# Show performance results\n",
    "resultsDF = performanceMetricsDF(metrics, y_train, y_pred_train, y_test, y_pred_test)\n",
    "resultsDF"
   ]
  },
  {
   "cell_type": "markdown",
   "metadata": {
    "id": "jUmmkBetZS3a"
   },
   "source": [
    "MAE (Mean Absolute Error): The predictions have an average error of about 16 units for both the training and test datasets.\n",
    "\n",
    "RMSE (Root Mean Squared Error): We have a higher error than the MAE metric, with a value of about 20 units for both the training and test datasets.\n",
    "\n",
    "R^2 (R-squared): The model's performance is quite weak, with only a small portion of the variance in the target variable being explained by the model. \n",
    "\n",
    "MAPE (Mean Absolute Percentage Error): The model's performance is inadequate, with very high MAPE values of about 3.62e+15 for the training dataset and 3.22e+15 for the test dataset.\n",
    "\n",
    "MAX Error: The model made some significant errors in predicting the target variable, with a maximum error of about 55-56 units for both the training and test datasets, which is extremely high.\n",
    "\n",
    "Overall, these results suggest that the model's performance is relatively poor, and it needs further refinement or improvement to make better predictions."
   ]
  },
  {
   "cell_type": "code",
   "execution_count": null,
   "metadata": {
    "colab": {
     "base_uri": "https://localhost:8080/",
     "height": 423
    },
    "id": "dZEY4dFoQCV1",
    "outputId": "c80b692a-7c80-413c-a561-b6fee54d74bd"
   },
   "outputs": [],
   "source": [
    "# Visualize predictions vs target values \n",
    "temp = y_test.to_frame()\n",
    "temp['Prediction'] = y_pred_test\n",
    "temp['Residual'] = y_test - temp.Prediction\n",
    "temp"
   ]
  },
  {
   "cell_type": "markdown",
   "metadata": {
    "id": "zBATb4tvaxhb"
   },
   "source": [
    "* By looking our residual column, we can determinate whether the models tends to overestimate or underestimares song_popularity and by how much.\n",
    "A positive residual indicates that the model underestimated the target variable as we can see in the first row a residual of 14.33, while a negative residual indicates that it overestimated it as we can see in the 3rd row with -11.45 of residual.\n",
    "\n",
    " Ideally, it is good to see the predicted values closely aligning with the actual values, with few large discrepancies or outliers.\n",
    "\n",
    " In this case, some of the predicted values are quite close to the actual values, as seen in rows 2, 4, and 8, where the residuals are 6.93, -3.48, and 2.86 respectively. However, some of the predictions have larger residuals, as seen in rows 1, 3, and 5, where the residuals are 14.34, -11.46, and -27.37 respectively. This indicates that the model is not consistently accurate in predicting song popularity."
   ]
  },
  {
   "cell_type": "code",
   "execution_count": null,
   "metadata": {
    "colab": {
     "base_uri": "https://localhost:8080/",
     "height": 750
    },
    "id": "hj3wAGd_QCV1",
    "outputId": "8ece758c-9874-4763-d26f-849c104d8394"
   },
   "outputs": [],
   "source": [
    "# Visualize the prediction error\n",
    "fig, ax = plt.subplots(figsize=(9, 7))\n",
    "predError_vis = PredictionError(estimator)\n",
    "predError_vis.fit(X_train, y_train)  # Fit the training data to the visualizer\n",
    "predError_vis.score(X_test, y_test)  # Evaluate the model on the test data\n",
    "predError_vis.show(ax=ax)"
   ]
  },
  {
   "cell_type": "markdown",
   "metadata": {
    "id": "jZ2bjP3ofK7R"
   },
   "source": [
    "* We can say that the fact that our point are concentrated between 40 and 50 indicate that the model is doing a good job in predicting the target values within that range. However, the presence of outliers in 60 might be predictions significantly off from the actual values.\n",
    "\n",
    "* The fact that the R^2 value is close to 0 indicates that the model is not performing well overall. Ideally, you would want an R^2 value that is close to 1.\n",
    "* Finally, our identity line on our plot represents the perfect prediction line, where the predicted value is exactly equal to the actual target value. As we can see on the best fit line, the predictions were very far off.\n",
    "\n",
    "\n"
   ]
  },
  {
   "cell_type": "markdown",
   "metadata": {
    "id": "k1SKyvfv_jPt"
   },
   "source": [
    "Summarising\n",
    "- All things considered, based on the evaluation metrics, we can say that the model does not perform well in predicting the target variable."
   ]
  },
  {
   "cell_type": "markdown",
   "metadata": {
    "id": "qw4sZKQyNOPf"
   },
   "source": [
    "## Model 2: MLPRegressor With Randomized Search"
   ]
  },
  {
   "cell_type": "code",
   "execution_count": null,
   "metadata": {
    "colab": {
     "base_uri": "https://localhost:8080/"
    },
    "id": "sgdgCxvANQRX",
    "outputId": "dc24b793-e8b7-4c3f-dab7-d168c42e5db7"
   },
   "outputs": [],
   "source": [
    "# Execute Randomized Search to hyper tune parameters\n",
    "random_param = {'hidden_layer_sizes': [3,4,5,6,7,8],\n",
    "          'activation': ['tanh', 'relu'],\n",
    "          'solver':['lbfgs', 'adam'],\n",
    "          'alpha':[0.0001, 0.002, 0.05],\n",
    "          'batch_size':['auto'],\n",
    "          'learning_rate':['constant'],\n",
    "          'learning_rate_init':[0.001, 0.002],\n",
    "          'max_iter':[100,300,500,700,900],\n",
    "          'random_state':[123]}\n",
    "reg = MLPRegressor()\n",
    "rand = RandomizedSearchCV(reg, param_distributions=random_param, cv=5, n_iter = 20)\n",
    "rand.fit(X_train, y_train)\n",
    "print(\"Random search best parameters: {}\".format(rand.best_params_))"
   ]
  },
  {
   "cell_type": "code",
   "execution_count": null,
   "metadata": {
    "id": "9X-G-LCsNSWv"
   },
   "outputs": [],
   "source": [
    "# Create the model\n",
    "estimator = MLPRegressor(**rand.best_params_)"
   ]
  },
  {
   "cell_type": "code",
   "execution_count": null,
   "metadata": {
    "colab": {
     "base_uri": "https://localhost:8080/",
     "height": 594
    },
    "id": "OmCVIHQmNU3L",
    "outputId": "c0b04ca9-dd59-4bb3-ae77-085d32695bb4"
   },
   "outputs": [],
   "source": [
    "# Plot the learning curve\n",
    "fig, ax = plt.subplots(figsize=(9, 7))\n",
    "cv = 10\n",
    "sizes = np.linspace(0.1, 1.0, 5)\n",
    "visualizer = LearningCurve(estimator=estimator, cv=cv, scoring='r2', train_sizes=sizes, n_jobs=4, random_state=123)\n",
    "visualizer.fit(X_train, y_train)\n",
    "visualizer.show(ax=ax)"
   ]
  },
  {
   "cell_type": "markdown",
   "metadata": {
    "id": "saIaD09lrwVR"
   },
   "source": [
    "* As we can see in the learning curve plotted shows that the model performance changes as the amount of training data increases.  The shaded area from training and cross validation are not that close but covering some of the area, this indicates that the training score is overfitting the training data, this occurs when the model is too complex relative to the amount of training data and start to fit to the noise in the data rather than the underlying patterns. \n",
    "The R-squares score of training set reaches a peak to 0.025 and the cross-validation set score to 0.015 at approximately 3.500 in the X-axis. This suggest that the model is improving as more data is being used to the train at this point. Looks from this point until the next score at 0.025 in training set and 0.019 in cross-validation set when it has around 5 500 training instances, is when the model have the highest overfitting. After this two score the model is not improving significantly with the additional training data is this case around 7500 in the X-axis. \n",
    "After this point at 7 500 training instances, the training score to remains relatively constant, while the cross-validation scores improve slightly, indicating that the model is starting to generalize better the new data.  \n",
    "\n"
   ]
  },
  {
   "cell_type": "code",
   "execution_count": null,
   "metadata": {
    "colab": {
     "base_uri": "https://localhost:8080/",
     "height": 91
    },
    "id": "CdPEQDZuNYPI",
    "outputId": "7d5995c0-3625-4043-a48c-2265ef2bdf81"
   },
   "outputs": [],
   "source": [
    "# Create and train the model\n",
    "estimator.fit(X_train, y_train)"
   ]
  },
  {
   "cell_type": "markdown",
   "metadata": {
    "id": "MzFu6K8hNaML"
   },
   "source": [
    "###Evaluation 2"
   ]
  },
  {
   "cell_type": "code",
   "execution_count": null,
   "metadata": {
    "id": "d_qLQC6TNb6t"
   },
   "outputs": [],
   "source": [
    "# predict y for X_train and X_test\n",
    "y_pred_train = estimator.predict(X_train) \n",
    "y_pred_test = estimator.predict(X_test) "
   ]
  },
  {
   "cell_type": "code",
   "execution_count": null,
   "metadata": {
    "id": "UngcH8pnNd2B"
   },
   "outputs": [],
   "source": [
    "# Function to create dataframe with metrics\n",
    "def performanceMetricsDF(metricsObj, yTrain, yPredTrain, yTest, yPredTest,set1='Train', set2='Test'):\n",
    "  measures_list = ['MAE','RMSE', 'R^2','MAPE (%)','MAX Error']\n",
    "  train_results = [metricsObj.mean_absolute_error(yTrain, yPredTrain),\n",
    "                np.sqrt(metricsObj.mean_squared_error(yTrain, yPredTrain)),\n",
    "                metricsObj.r2_score(yTrain, yPredTrain),\n",
    "                metricsObj.mean_absolute_percentage_error(yTrain, yPredTrain),\n",
    "                metricsObj.max_error(yTrain, yPredTrain)]\n",
    "  test_results = [metricsObj.mean_absolute_error(yTest, yPredTest),\n",
    "                np.sqrt(metricsObj.mean_squared_error(yTest, yPredTest)),\n",
    "                metricsObj.r2_score(yTest, yPredTest),\n",
    "                  metricsObj.mean_absolute_percentage_error(yTest, yPredTest),\n",
    "                metricsObj.max_error(yTest, yPredTest)]\n",
    "  resultsDF = pd.DataFrame({'Measure': measures_list, set1: train_results, set2:test_results})\n",
    "  return(resultsDF)"
   ]
  },
  {
   "cell_type": "code",
   "execution_count": null,
   "metadata": {
    "colab": {
     "base_uri": "https://localhost:8080/",
     "height": 206
    },
    "id": "FstFa3XxNfVV",
    "outputId": "9dfd17b0-4895-4101-874d-f92be2697a0e"
   },
   "outputs": [],
   "source": [
    "# Show performance results\n",
    "resultsDF = performanceMetricsDF(metrics, y_train, y_pred_train, y_test, y_pred_test)\n",
    "resultsDF"
   ]
  },
  {
   "cell_type": "markdown",
   "metadata": {
    "id": "lWXYBMJ2rr5H"
   },
   "source": [
    "* These measures suggest that the model is performing similarly on the training and test sets, with relatively low MAE and RMSE values, and low but non-zero R^2 values. However, the extremely high MAPE values suggest that the model may not be performing well on certain data points, possibly due to outliers or other factors. \n",
    "* The MAE and RMSE values are relatively close between the two sets, indicating that the model's predictions are not biased towards one set or the other.\n",
    "* The R^2 values are also quite low, indicating that the model is not explaining a large proportion of the variance in the data, but this could be due to the nature of the problem or the limitations of the data."
   ]
  },
  {
   "cell_type": "code",
   "execution_count": null,
   "metadata": {
    "colab": {
     "base_uri": "https://localhost:8080/",
     "height": 423
    },
    "id": "9LmGEtzzNkJM",
    "outputId": "e685f190-3ba7-4b73-b8a8-f19351182cde"
   },
   "outputs": [],
   "source": [
    "# Visualize predictions vs target values \n",
    "temp = y_test.to_frame()\n",
    "temp['Prediction'] = y_pred_test\n",
    "temp['Residual'] = y_test - temp.Prediction\n",
    "temp"
   ]
  },
  {
   "cell_type": "markdown",
   "metadata": {
    "id": "v-EdND97rByj"
   },
   "source": [
    "* By looking our residual column, we can determinate whether the models tends to overestimate or underestimares song_popularity and by how much. A positive residual indicates that the model underestimated the target variable as we can see in the first row a residual of 13.60, while a negative residual indicates that it overestimated it as we can see in the 3rd row with -11.624 of residual.\n",
    "\n",
    "* Ideally, it is good to see the predicted values closely aligning with the actual values, with few large discrepancies or outliers.\n",
    "\n",
    "* When looking at the residuals we can say that the model is making fairly large errors in some cases, which is consistent with the poor performance metrics. "
   ]
  },
  {
   "cell_type": "code",
   "execution_count": null,
   "metadata": {
    "id": "eVXlEzlpQvVp"
   },
   "outputs": [],
   "source": [
    "# Visualize the prediction error\n",
    "fig, ax = plt.subplots(figsize=(9, 7))\n",
    "predError_vis = PredictionError(estimator)\n",
    "predError_vis.fit(X_train, y_train)  # Fit the training data to the visualizer\n",
    "predError_vis.score(X_test, y_test)  # Evaluate the model on the test data\n",
    "predError_vis.show(ax=ax)"
   ]
  },
  {
   "cell_type": "markdown",
   "metadata": {
    "id": "IUknevP3hpvS"
   },
   "source": [
    "* We can say that the fact that our point are concentrated between 40 and 50 indicate that the model is doing a good job in predicting the target values within that range. However, the presence of outliers in 60 might be predictions significantly off from the actual values.\n",
    "\n",
    "* The fact that the R^2 value is close to 0 in this case 0.032 indicates that the model is not performing well overall. Ideally, you would want an R^2 value that is close to 1. \n",
    "* Finally, our identity line on our plot represents the perfect prediction line, where the predicted value is exactly equal to the actual target value. As we can see on the best fit line, the predictions were very far off."
   ]
  },
  {
   "cell_type": "markdown",
   "metadata": {
    "id": "0U6XpzusOfgB"
   },
   "source": [
    "##Model 3: Decision Tree Regressor"
   ]
  },
  {
   "cell_type": "code",
   "execution_count": null,
   "metadata": {
    "id": "3NWDIALhOm0y"
   },
   "outputs": [],
   "source": [
    "# Split the dataset intro train and test\n",
    "X_train, X_test, y_train, y_test = train_test_split(ds_scaled, y, train_size = 0.75, test_size = 0.25, random_state = 2021)"
   ]
  },
  {
   "cell_type": "code",
   "execution_count": null,
   "metadata": {
    "id": "ICHMsR5POh2u"
   },
   "outputs": [],
   "source": [
    "# Initialize model\n",
    "tree_regr = tree.DecisionTreeRegressor(random_state=123, max_depth=4, min_samples_leaf=5)"
   ]
  },
  {
   "cell_type": "code",
   "execution_count": null,
   "metadata": {
    "colab": {
     "base_uri": "https://localhost:8080/",
     "height": 536
    },
    "id": "zbC0HNEWOka-",
    "outputId": "78ec8c7c-78aa-4981-ea4c-5782eda323fc"
   },
   "outputs": [],
   "source": [
    "# Plot the learning curve\n",
    "cv = 10\n",
    "sizes = np.linspace(0.1, 1.0, 5)\n",
    "visualizer = LearningCurve(estimator=tree_regr, cv=cv, scoring='r2', train_sizes=sizes, n_jobs=4, random_state=123)\n",
    "visualizer.fit(X, y)\n",
    "visualizer.show()     "
   ]
  },
  {
   "cell_type": "markdown",
   "metadata": {
    "id": "SlrjhnptJX98"
   },
   "source": [
    "\n",
    "* The decision tree model tends to perform better with higher number of training instances. After the 4200 training instances the training and the cross-validation scores tends to converge.\n",
    "\n",
    "* The fact that the shade of the cross-validation score is wider than that of the training score at all graph suggests that there is more variance in the model's performance on the validation sets than on the training sets.\n",
    "\n",
    "* The fact that the cross-validation score is not as high as the training score at the larger sizes of data analyzed could suggest overfitting."
   ]
  },
  {
   "cell_type": "code",
   "execution_count": null,
   "metadata": {
    "colab": {
     "base_uri": "https://localhost:8080/",
     "height": 74
    },
    "id": "OAKMRCS7PHrz",
    "outputId": "105ed14a-d6bf-4c2d-cb05-11bbabfefa17"
   },
   "outputs": [],
   "source": [
    "# Create and train the model\n",
    "tree_regr.fit(X_train, y_train)"
   ]
  },
  {
   "cell_type": "code",
   "execution_count": null,
   "metadata": {
    "colab": {
     "base_uri": "https://localhost:8080/",
     "height": 457
    },
    "id": "lyhkylckPJXV",
    "outputId": "0ddcb868-9517-49f2-c386-5a018e04c943"
   },
   "outputs": [],
   "source": [
    "# Explore feature importance (Gini importance - normalized)\n",
    "formattedList = [float(format(member,'.6f')) for member in tree_regr.feature_importances_]\n",
    "formattedList2 = [abs(float(format(member,'.6f'))) for member in tree_regr.feature_importances_]\n",
    "data_tuples = list(zip(X.columns,formattedList,formattedList2))\n",
    "coeff_df = pd.DataFrame(data=data_tuples, columns=['Feature','Coefficient','AbsCoefficient'])\n",
    "coeff_df.reset_index(drop=True, inplace=True)\n",
    "coeff_df.sort_values(by=['AbsCoefficient'], inplace=True, ascending=False)"
   ]
  },
  {
   "cell_type": "markdown",
   "metadata": {
    "id": "naWYMkJrn69u"
   },
   "source": [
    "This means that, in the decision tree model, the instrumentalness has a higher coefficient of all the variables, indicating that this is the most important feature in predicting the targer variable. By contrast, the danceability, key, liveness, audio mode and time signature features have coefficients and absolute coefficients of 0.0, meaning that they have no effect on the model´s predictions."
   ]
  },
  {
   "cell_type": "code",
   "execution_count": null,
   "metadata": {
    "colab": {
     "base_uri": "https://localhost:8080/",
     "height": 677
    },
    "id": "7C3wCKo5PMLF",
    "outputId": "470767e6-08e4-441f-c428-65b78f8de438"
   },
   "outputs": [],
   "source": [
    "# Plot the tree\n",
    "import graphviz\n",
    "dot_data = tree.export_graphviz(tree_regr, out_file=None, \n",
    "                      feature_names=list(X_train.columns),  \n",
    "                      class_names='Returns',  \n",
    "                      filled=True, rounded=True,  \n",
    "                      special_characters=True)  \n",
    "graph = graphviz.Source(dot_data)  \n",
    "graph "
   ]
  },
  {
   "cell_type": "markdown",
   "metadata": {
    "id": "bT0Fo_RLPOVi"
   },
   "source": [
    "###Evaluation 3"
   ]
  },
  {
   "cell_type": "code",
   "execution_count": null,
   "metadata": {
    "id": "zdlJi0N0PQYc"
   },
   "outputs": [],
   "source": [
    "# predict y for X_train and X_test\n",
    "y_pred_train = tree_regr.predict(X_train) \n",
    "y_pred_test = tree_regr.predict(X_test) "
   ]
  },
  {
   "cell_type": "code",
   "execution_count": null,
   "metadata": {
    "id": "b6xXwd0uPSbn"
   },
   "outputs": [],
   "source": [
    "# Function to create dataframe with metrics\n",
    "def performanceMetricsDF(metricsObj, yTrain, yPredTrain, yTest, yPredTest):\n",
    "  measures_list = ['MAE','RMSE', 'R^2','MAPE (%)','MAX Error']\n",
    "  train_results = [metricsObj.mean_absolute_error(yTrain, yPredTrain),\n",
    "                np.sqrt(metricsObj.mean_squared_error(yTrain, yPredTrain)),\n",
    "                metricsObj.r2_score(yTrain, yPredTrain),\n",
    "                metricsObj.mean_absolute_percentage_error(yTrain, yPredTrain),\n",
    "                metricsObj.max_error(yTrain, yPredTrain)]\n",
    "  test_results = [metricsObj.mean_absolute_error(yTest, yPredTest),\n",
    "                np.sqrt(metricsObj.mean_squared_error(yTest, yPredTest)),\n",
    "                metricsObj.r2_score(yTest, yPredTest),\n",
    "                  metricsObj.mean_absolute_percentage_error(yTest, yPredTest),\n",
    "                metricsObj.max_error(yTest, yPredTest)]\n",
    "  resultsDF = pd.DataFrame({'Measure': measures_list, 'Train': train_results, 'Test':test_results})\n",
    "  return(resultsDF)"
   ]
  },
  {
   "cell_type": "code",
   "execution_count": null,
   "metadata": {
    "colab": {
     "base_uri": "https://localhost:8080/"
    },
    "id": "T7TvYjKBPT69",
    "outputId": "5d92863a-f21f-4320-c59d-58e01ec18a61"
   },
   "outputs": [],
   "source": [
    "# Show performance results\n",
    "resultsDF = performanceMetricsDF(metrics, y_train, y_pred_train, y_test, y_pred_test)\n",
    "resultsDF"
   ]
  },
  {
   "cell_type": "markdown",
   "metadata": {
    "id": "tmbejJNrxVTp"
   },
   "source": [
    "* The model achieved a MAE of 15.93 on the test set, which means on average, the predictions are off by 15.93 units from the actual values. This value is relatively high, meaning that the predictions are not that good.\n",
    "\n",
    "* The model achieved an RMSE of 20.07 on the test set, which means that the average error of the model's prediction is about 20 units.\n",
    "\n",
    "* The model achieved an R^2 score of 0.02 on the test set and 0.04 on the training set, which indicates that the model overfits the data. In this metric, 1 indicates a perfect fit. Since our value is too far from 1, this shows that the model is not accurate.\n",
    "\n",
    "* The model achieved a high MAPE of 3.31 x 3.66^15 on the test set, which indicates that the model's predictions are not perfect but still have low errors in absolute terms.\n",
    "\n",
    "* The model achieved a MAX Error of 54.76 on the test set, which is very high and indicates a large prediction error.\n",
    "\n",
    "After analyzing this data, we can say that the model doesn't performs well in predicting the target variable. "
   ]
  },
  {
   "cell_type": "code",
   "execution_count": null,
   "metadata": {
    "colab": {
     "base_uri": "https://localhost:8080/"
    },
    "id": "xu8le3rIPWtt",
    "outputId": "3ef5e6f3-63a1-4d98-9bb8-f1c03d98b8e4"
   },
   "outputs": [],
   "source": [
    "# Visualize the residuals\n",
    "residuals_vis = ResidualsPlot(tree_regr)\n",
    "residuals_vis.fit(X_train, y_train)  # Fit the training data to the visualizer\n",
    "residuals_vis.score(X_test, y_test)  # Evaluate the model on the test data\n",
    "residuals_vis.show() "
   ]
  },
  {
   "cell_type": "code",
   "execution_count": null,
   "metadata": {
    "colab": {
     "base_uri": "https://localhost:8080/"
    },
    "id": "zc3TyrA8PZEi",
    "outputId": "e1957662-8235-4098-b3b9-d209f780b51d"
   },
   "outputs": [],
   "source": [
    "# Visualize the prediction error\n",
    "predError_vis = PredictionError(tree_regr)\n",
    "predError_vis.fit(X_train, y_train)  # Fit the training data to the visualizer\n",
    "predError_vis.score(X_test, y_test)  # Evaluate the model on the test data\n",
    "predError_vis.show() "
   ]
  },
  {
   "cell_type": "markdown",
   "metadata": {
    "id": "lrhtm4pC6_uM"
   },
   "source": [
    "Summarising\n",
    "\n",
    "All things considered, based on the evaluation metrics, we can say that the model is not performing well in predicting the target variable."
   ]
  },
  {
   "cell_type": "markdown",
   "metadata": {
    "id": "Q-IV-TA2I2xM"
   },
   "source": [
    "##Model 4: MLP Regression with Optuna hyperparameter optimization"
   ]
  },
  {
   "cell_type": "markdown",
   "metadata": {
    "id": "17LQQ3wtDdgy"
   },
   "source": [
    "* Optuna is a Python library  that provide an automated hyperparameter optimization framework, it will automatically search for the best combination of hyperparamenters."
   ]
  },
  {
   "cell_type": "code",
   "execution_count": null,
   "metadata": {
    "id": "x7uYVHpEovGV"
   },
   "outputs": [],
   "source": [
    "# Split the dataset intro train and test\n",
    "X_train, X_test, y_train, y_test = train_test_split(ds_scaled, y, train_size = 0.75, test_size = 0.25, random_state = 123)"
   ]
  },
  {
   "cell_type": "code",
   "execution_count": null,
   "metadata": {
    "colab": {
     "base_uri": "https://localhost:8080/"
    },
    "id": "JcQzU6jtI46X",
    "outputId": "c078ae39-6749-4589-bf89-5e5e48e0ac6e"
   },
   "outputs": [],
   "source": [
    "# Use optuna to search for the best parameters\n",
    "def objective(trial):\n",
    "      hidden_layer_sizes = trial.suggest_int('hidden_layer_sizes', 3, 8)\n",
    "      max_iter = trial.suggest_int('max_iter', 500, 1000)\n",
    "      reg = MLPRegressor(hidden_layer_sizes=hidden_layer_sizes, max_iter=max_iter, random_state=123)\n",
    "      return cross_val_score(reg, X_train, y_train, \n",
    "           n_jobs=-1, cv=5, scoring='r2').mean()\n",
    "\n",
    "study = optuna.create_study(direction='maximize')\n",
    "study.optimize(objective, n_trials=20)\n",
    "\n",
    "trial = study.best_trial\n",
    "print('r2: {}'.format(trial.value))\n",
    "\n",
    "print(\"Best hyperparameters: {}\".format(trial.params))"
   ]
  },
  {
   "cell_type": "code",
   "execution_count": null,
   "metadata": {
    "colab": {
     "base_uri": "https://localhost:8080/",
     "height": 542
    },
    "id": "7tyYKlsqI_Y7",
    "outputId": "8575cc21-847a-42d0-fba6-1ce92f58b377"
   },
   "outputs": [],
   "source": [
    "# Optimization history\n",
    "optuna.visualization.plot_optimization_history(study)"
   ]
  },
  {
   "cell_type": "markdown",
   "metadata": {
    "id": "oYU9HEh8Pv4G"
   },
   "source": [
    "* As we can see in our Optimization History Plot, the score objetives evaluated at each trial during the hyperparameter search all range between positive points, strating in 0,015 and ending near 0,022. This means that the model ahve learned quite quick and the optimization algorithm initially found a solution that had a relatively high objective function value, but then gradually improved the solution until it reached a more optimal point."
   ]
  },
  {
   "cell_type": "code",
   "execution_count": null,
   "metadata": {
    "colab": {
     "base_uri": "https://localhost:8080/",
     "height": 542
    },
    "id": "R-5xIEilJCZ8",
    "outputId": "8d8e30e7-5a9d-44d6-bb05-4473a0cd136a"
   },
   "outputs": [],
   "source": [
    "# Slice by parameter\n",
    "optuna.visualization.plot_slice(study)"
   ]
  },
  {
   "cell_type": "markdown",
   "metadata": {
    "id": "aFRwOU9cSmdQ"
   },
   "source": [
    "* In the slice plot it show us the distribution of the objective values of the trials in the hyperparameter search space. Our objective values are concentrated between (0,015 and 0.022) as we saw in the plot before, which means that the majority of the trial achieve the results with hyperparamenters in that range. We might said that 0,022 was the best score we achieved which is good, but not the optimal solution to optimize the model."
   ]
  },
  {
   "cell_type": "code",
   "execution_count": null,
   "metadata": {
    "colab": {
     "base_uri": "https://localhost:8080/",
     "height": 542
    },
    "id": "i5MF8B05JEXA",
    "outputId": "aab0a17f-3151-41da-b1f7-2e32bd09d342"
   },
   "outputs": [],
   "source": [
    "# See in a parellell cordinates plot\n",
    "optuna.visualization.plot_parallel_coordinate(study)"
   ]
  },
  {
   "cell_type": "markdown",
   "metadata": {
    "id": "9ApBHf8hYKwh"
   },
   "source": [
    "* Here we can find a parallel coordinate plot of the hyperparamenters and objectives values for each trial in the study. Each line correspond to a trial and the color the objective value. As we can see most of our trial achieved bad objectives values from 0. 0147238 to 0.0214918 Our range from interaction or epochs that the algorithm is allowed to perform is from 505 to 974.\n",
    "* Reggarding the hidden_layers_sizes, the fact we have multiple hyperparameter combinations all of them lead to bad performance, the flexibility in the choice of hyperparameters and those multiple solutions are not valid in the  model.\n",
    "* Overall the performance of this model is worse than the baseline, which is usually 0. "
   ]
  },
  {
   "cell_type": "code",
   "execution_count": null,
   "metadata": {
    "id": "Jr03zXy9JJKR"
   },
   "outputs": [],
   "source": [
    "# Create the model\n",
    "estimator = MLPRegressor(**trial.params)"
   ]
  },
  {
   "cell_type": "code",
   "execution_count": null,
   "metadata": {
    "colab": {
     "base_uri": "https://localhost:8080/",
     "height": 594
    },
    "id": "pQEzjYzEJF8f",
    "outputId": "3ba46233-c654-4b47-fc3c-2fee5c46c429"
   },
   "outputs": [],
   "source": [
    "# Plot the learning curve\n",
    "fig, ax = plt.subplots(figsize=(9, 7))\n",
    "cv = 10\n",
    "sizes = np.linspace(0.1, 1.0, 5)\n",
    "visualizer = LearningCurve(estimator=estimator, cv=cv, scoring='r2', train_sizes=sizes, n_jobs=4, random_state=123)\n",
    "visualizer.fit(X_train, y_train)\n",
    "visualizer.show(ax=ax)"
   ]
  },
  {
   "cell_type": "markdown",
   "metadata": {
    "id": "Tri1TWF-9Dh-"
   },
   "source": [
    "The fact that the two lines are always in almost the same location, very close together suggests that the model is performing consistently on both the training set and the cross-validation set. This indicates that the model is not overfitting or underfitting the data. Instead, it is fitting the data well and generalizing to the unseen data.\n",
    "\n",
    "By analysing the graph in more detail, we can see that the two lines converge as the number of samples increases, as suggested by the optimization history graph. \n",
    "\n",
    "This indicates to us that as the model receives more data, it can learn more elaborately and correctly, predicting future values more correctly. \n",
    "\n",
    "The R-squared scores for both the training set and the cross-validation set start very low at -0.56, indicating that the initial model is performing very poorly on the data. However, as the number of samples in the training set increases, both the training score and the cross-validation score increase, which indicates that the model is improving but still not having a good performance that is close to 1.  \n"
   ]
  },
  {
   "cell_type": "code",
   "execution_count": null,
   "metadata": {
    "colab": {
     "base_uri": "https://localhost:8080/",
     "height": 74
    },
    "id": "IfbarXHVJOEH",
    "outputId": "f19d0b64-579a-48af-8677-de91b431c1a3"
   },
   "outputs": [],
   "source": [
    "# Create and train the model\n",
    "estimator.fit(X_train, y_train)"
   ]
  },
  {
   "cell_type": "markdown",
   "metadata": {
    "id": "hboz3-QGJQLh"
   },
   "source": [
    "###Evaluation 4"
   ]
  },
  {
   "cell_type": "code",
   "execution_count": null,
   "metadata": {
    "id": "Ncp3tPvOJSwA"
   },
   "outputs": [],
   "source": [
    "# predict y for X_train and X_test\n",
    "y_pred_train = estimator.predict(X_train) \n",
    "y_pred_test = estimator.predict(X_test) "
   ]
  },
  {
   "cell_type": "code",
   "execution_count": null,
   "metadata": {
    "id": "zBxAlZN1JW3B"
   },
   "outputs": [],
   "source": [
    "# Function to create dataframe with metrics\n",
    "def performanceMetricsDF(metricsObj, yTrain, yPredTrain, yTest, yPredTest,set1='Train', set2='Test'):\n",
    "  measures_list = ['MAE','RMSE', 'R^2','MAPE (%)','MAX Error']\n",
    "  train_results = [metricsObj.mean_absolute_error(yTrain, yPredTrain),\n",
    "                np.sqrt(metricsObj.mean_squared_error(yTrain, yPredTrain)),\n",
    "                metricsObj.r2_score(yTrain, yPredTrain),\n",
    "                metricsObj.mean_absolute_percentage_error(yTrain, yPredTrain),\n",
    "                metricsObj.max_error(yTrain, yPredTrain)]\n",
    "  test_results = [metricsObj.mean_absolute_error(yTest, yPredTest),\n",
    "                np.sqrt(metricsObj.mean_squared_error(yTest, yPredTest)),\n",
    "                metricsObj.r2_score(yTest, yPredTest),\n",
    "                  metricsObj.mean_absolute_percentage_error(yTest, yPredTest),\n",
    "                metricsObj.max_error(yTest, yPredTest)]\n",
    "  resultsDF = pd.DataFrame({'Measure': measures_list, set1: train_results, set2:test_results})\n",
    "  return(resultsDF)"
   ]
  },
  {
   "cell_type": "code",
   "execution_count": null,
   "metadata": {
    "colab": {
     "base_uri": "https://localhost:8080/",
     "height": 206
    },
    "id": "qOdPLIzbJZqY",
    "outputId": "1d826b29-d855-480a-f179-287c38ca2efc"
   },
   "outputs": [],
   "source": [
    "# Show performance results\n",
    "resultsDF = performanceMetricsDF(metrics, y_train, y_pred_train, y_test, y_pred_test)\n",
    "resultsDF"
   ]
  },
  {
   "cell_type": "markdown",
   "metadata": {
    "id": "lYjOD5cE0TGF"
   },
   "source": [
    "* The values of MAE and RMSE are higher in the test set than the training set. This indicates that the model is performing worse on new or unseen data. However the difference is not very large, suggesting the model might no be overfiting too severely. \n",
    "* Looking at the R^2 which a value of 1 indicates a perfect fit we see that in both the set this value is positive, namely both near of 0,017. However, this value is preety low which can indicate that  only a small proportion of the variance in the dependent variable can be explained by the independent variable(s) in the model. This might mean that the model is not fitting other variables that influence the final result of the model. \n",
    "* Concerning the MAX error, in this case, the error is from 56.4. Conerning that we are meausuring the song popularity, a variable that ranges from 0 to 100, an maximum error of 56.4 is quite high, which mean that the model is making large errors when predicting the values. A High max error is also a reflection of a overfitting of the model. \n"
   ]
  },
  {
   "cell_type": "code",
   "execution_count": null,
   "metadata": {
    "colab": {
     "base_uri": "https://localhost:8080/",
     "height": 423
    },
    "id": "9lmoENllJaK4",
    "outputId": "690bd19b-52f3-4297-d171-2f7617d04094"
   },
   "outputs": [],
   "source": [
    "# Visualize predictions vs target values \n",
    "temp = y_test.to_frame()\n",
    "temp['Prediction'] = y_pred_test\n",
    "temp['Residual'] = y_test - temp.Prediction\n",
    "temp"
   ]
  },
  {
   "cell_type": "markdown",
   "metadata": {
    "id": "HZtE_3wZUtn6"
   },
   "source": [
    "* By looking our residual column, we can determinate whether the models tends to overestimate or underestimares song_popularity and by how much.\n",
    "* As we can see  our residuals are in the most cases positive, an aspect  that indicates that the actual target variable is higher than the predicted value. The model is understimate the popularity of some song. However we have some row were the predict value is overestimating the actual value.\n"
   ]
  },
  {
   "cell_type": "code",
   "execution_count": null,
   "metadata": {
    "colab": {
     "base_uri": "https://localhost:8080/",
     "height": 750
    },
    "id": "793auAA3JfPE",
    "outputId": "f69ff971-d0c4-47f2-b95d-568a28916f72"
   },
   "outputs": [],
   "source": [
    "# Visualize the prediction error\n",
    "fig, ax = plt.subplots(figsize=(9, 7))\n",
    "predError_vis = PredictionError(estimator)\n",
    "predError_vis.fit(X_train, y_train)  # Fit the training data to the visualizer\n",
    "predError_vis.score(X_test, y_test)  # Evaluate the model on the test data\n",
    "predError_vis.show(ax=ax)"
   ]
  },
  {
   "cell_type": "markdown",
   "metadata": {
    "id": "p8JldPk2Vdvk"
   },
   "source": [
    "* The prediction Error Plot can show us the difference between the true targe value and the predicted target variable. Our r^2=0,017 indicate that the model is  explaining part of the variance in the target variable, however, and since the value is quite far form 1, the perfect prediction, the model is not working as the expectation. \n",
    "* In other words, the model is predicting quite poorly the unseen data and is mostly failing in capture and understand the underlying patterns in the data, which make the predction quite distant from the perfect fit. "
   ]
  },
  {
   "cell_type": "markdown",
   "metadata": {
    "id": "evXtYt_0H_FC"
   },
   "source": [
    "Conclusion:\n",
    "* Based on this, we can say that this model is not reliable and is making poor predictions."
   ]
  },
  {
   "cell_type": "markdown",
   "metadata": {
    "id": "ObtyhkNTufrG"
   },
   "source": [
    "## Evaluation"
   ]
  },
  {
   "cell_type": "markdown",
   "metadata": {
    "id": "hCd66Wf-uhnI"
   },
   "source": [
    "Based on the success criteria defined on the Business Understanding phase, none of the models used in this regression project performed well in predicting the target variable.\n",
    "\n",
    "For Model 1, the MLP Regressor, the MAE and RMSE values were relatively high, the R^2 value was close to 0, and the MAPE and MAX Error values were extremely high, indicating poor performance overall.\n",
    "\n",
    "Model 2, MLPRegressor with Randomized Search, performed similarly on the training and test sets, with relatively low MAE and RMSE values, and low but non-zero R^2 values. However, the extremely high MAPE values suggest that the model may not be performing well on certain data points. Though this is the model that performed better in terms of accuracy, there is still a lot of room for improvement in terms of results.\n",
    "\n",
    "The Decision Tree Regressor, Model 3, achieved high values for MAPE and MAX Error, indicating poor performance in predicting the target variable. The R^2 value indicated that the model overfits the data.\n",
    "\n",
    "Model 4, MLP Regression with Optuna hyperparameter optimization, had lower MAE and RMSE values on the training set than the test set, indicating poor performance on new or unseen data. The R^2 value was low, indicating that the model is not explaining a large proportion of the variance in the data.\n",
    "\n",
    "Overall, it appears that the models need further refinement or improvement to make better predictions. The data mining goals of identifying key features that drive popularity and using this information to guide decision-making were not achieved in this project. It is recommended to revisit the data and the models used to see if any improvements can be made to achieve better performance. Additionally, more data may need to be collected to further train and test the models."
   ]
  }
 ],
 "metadata": {
  "colab": {
   "provenance": []
  },
  "kernelspec": {
   "display_name": "Python 3 (ipykernel)",
   "language": "python",
   "name": "python3"
  },
  "language_info": {
   "codemirror_mode": {
    "name": "ipython",
    "version": 3
   },
   "file_extension": ".py",
   "mimetype": "text/x-python",
   "name": "python",
   "nbconvert_exporter": "python",
   "pygments_lexer": "ipython3",
   "version": "3.9.13"
  }
 },
 "nbformat": 4,
 "nbformat_minor": 1
}
